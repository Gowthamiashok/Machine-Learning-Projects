{
 "cells": [
  {
   "cell_type": "markdown",
   "metadata": {},
   "source": [
    "## CAMPUS RECRUITMENT "
   ]
  },
  {
   "cell_type": "markdown",
   "metadata": {},
   "source": [
    "### 1. IMPORTING THE DATASET"
   ]
  },
  {
   "cell_type": "code",
   "execution_count": 1,
   "metadata": {},
   "outputs": [],
   "source": [
    "dataset1 = read.csv(\"Campus_Recruitment_Dataset.csv\")"
   ]
  },
  {
   "cell_type": "code",
   "execution_count": 2,
   "metadata": {},
   "outputs": [],
   "source": [
    "# EXPLORING THE DATASET"
   ]
  },
  {
   "cell_type": "code",
   "execution_count": 3,
   "metadata": {},
   "outputs": [
    {
     "data": {
      "text/html": [
       "<table class=\"dataframe\">\n",
       "<caption>A data.frame: 215 × 15</caption>\n",
       "<thead>\n",
       "\t<tr><th scope=col>Sl_no</th><th scope=col>gender</th><th scope=col>ssc_percent</th><th scope=col>ssc_board_of_education</th><th scope=col>hsc_percent</th><th scope=col>hsc_board</th><th scope=col>hsc_specialization</th><th scope=col>degree_percent</th><th scope=col>degree_type</th><th scope=col>work_experience</th><th scope=col>employment_test_percent</th><th scope=col>specialisation</th><th scope=col>mba_percent</th><th scope=col>status</th><th scope=col>salary</th></tr>\n",
       "\t<tr><th scope=col>&lt;int&gt;</th><th scope=col>&lt;chr&gt;</th><th scope=col>&lt;dbl&gt;</th><th scope=col>&lt;chr&gt;</th><th scope=col>&lt;dbl&gt;</th><th scope=col>&lt;chr&gt;</th><th scope=col>&lt;chr&gt;</th><th scope=col>&lt;dbl&gt;</th><th scope=col>&lt;chr&gt;</th><th scope=col>&lt;chr&gt;</th><th scope=col>&lt;dbl&gt;</th><th scope=col>&lt;chr&gt;</th><th scope=col>&lt;dbl&gt;</th><th scope=col>&lt;chr&gt;</th><th scope=col>&lt;int&gt;</th></tr>\n",
       "</thead>\n",
       "<tbody>\n",
       "\t<tr><td> 1</td><td>M</td><td>67.00</td><td>Others </td><td>91.00</td><td>Others </td><td>Commerce</td><td>58.00</td><td>Sci&amp;Tech </td><td>No </td><td>55.00</td><td>Mkt&amp;HR </td><td>58.80</td><td><span style=white-space:pre-wrap>Placed    </span></td><td>270000</td></tr>\n",
       "\t<tr><td> 2</td><td>M</td><td>79.33</td><td>Central</td><td>78.33</td><td>Others </td><td>Science </td><td>77.48</td><td>Sci&amp;Tech </td><td>Yes</td><td>86.50</td><td>Mkt&amp;Fin</td><td>66.28</td><td><span style=white-space:pre-wrap>Placed    </span></td><td>200000</td></tr>\n",
       "\t<tr><td> 3</td><td>M</td><td>65.00</td><td>Central</td><td>68.00</td><td>Central</td><td><span style=white-space:pre-wrap>Arts    </span></td><td>64.00</td><td>Comm&amp;Mgmt</td><td>No </td><td>75.00</td><td>Mkt&amp;Fin</td><td>57.80</td><td><span style=white-space:pre-wrap>Placed    </span></td><td>250000</td></tr>\n",
       "\t<tr><td> 4</td><td>M</td><td>56.00</td><td>Central</td><td>52.00</td><td>Central</td><td>Science </td><td>52.00</td><td>Sci&amp;Tech </td><td>No </td><td>66.00</td><td>Mkt&amp;HR </td><td>59.43</td><td>Not Placed</td><td><span style=white-space:pre-wrap>    NA</span></td></tr>\n",
       "\t<tr><td> 5</td><td>M</td><td>85.80</td><td>Central</td><td>73.60</td><td>Central</td><td>Commerce</td><td>73.30</td><td>Comm&amp;Mgmt</td><td>No </td><td>96.80</td><td>Mkt&amp;Fin</td><td>55.50</td><td><span style=white-space:pre-wrap>Placed    </span></td><td>425000</td></tr>\n",
       "\t<tr><td> 6</td><td>M</td><td>55.00</td><td>Others </td><td>49.80</td><td>Others </td><td>Science </td><td>67.25</td><td>Sci&amp;Tech </td><td>Yes</td><td>55.00</td><td>Mkt&amp;Fin</td><td>51.58</td><td>Not Placed</td><td><span style=white-space:pre-wrap>    NA</span></td></tr>\n",
       "\t<tr><td> 7</td><td>F</td><td>46.00</td><td>Others </td><td>49.20</td><td>Others </td><td>Commerce</td><td>79.00</td><td>Comm&amp;Mgmt</td><td>No </td><td>74.28</td><td>Mkt&amp;Fin</td><td>53.29</td><td>Not Placed</td><td><span style=white-space:pre-wrap>    NA</span></td></tr>\n",
       "\t<tr><td> 8</td><td>M</td><td>82.00</td><td>Central</td><td>64.00</td><td>Central</td><td>Science </td><td>66.00</td><td>Sci&amp;Tech </td><td>Yes</td><td>67.00</td><td>Mkt&amp;Fin</td><td>62.14</td><td><span style=white-space:pre-wrap>Placed    </span></td><td>252000</td></tr>\n",
       "\t<tr><td> 9</td><td>M</td><td>73.00</td><td>Central</td><td>79.00</td><td>Central</td><td>Commerce</td><td>72.00</td><td>Comm&amp;Mgmt</td><td>No </td><td>91.34</td><td>Mkt&amp;Fin</td><td>61.29</td><td><span style=white-space:pre-wrap>Placed    </span></td><td>231000</td></tr>\n",
       "\t<tr><td>10</td><td>M</td><td>58.00</td><td>Central</td><td>70.00</td><td>Central</td><td>Commerce</td><td>61.00</td><td>Comm&amp;Mgmt</td><td>No </td><td>54.00</td><td>Mkt&amp;Fin</td><td>52.21</td><td>Not Placed</td><td><span style=white-space:pre-wrap>    NA</span></td></tr>\n",
       "\t<tr><td>11</td><td>M</td><td>58.00</td><td>Central</td><td>61.00</td><td>Central</td><td>Commerce</td><td>60.00</td><td>Comm&amp;Mgmt</td><td>Yes</td><td>62.00</td><td>Mkt&amp;HR </td><td>60.85</td><td><span style=white-space:pre-wrap>Placed    </span></td><td>260000</td></tr>\n",
       "\t<tr><td>12</td><td>M</td><td>69.60</td><td>Central</td><td>68.40</td><td>Central</td><td>Commerce</td><td>78.30</td><td>Comm&amp;Mgmt</td><td>Yes</td><td>60.00</td><td>Mkt&amp;Fin</td><td>63.70</td><td><span style=white-space:pre-wrap>Placed    </span></td><td>250000</td></tr>\n",
       "\t<tr><td>13</td><td>F</td><td>47.00</td><td>Central</td><td>55.00</td><td>Others </td><td>Science </td><td>65.00</td><td>Comm&amp;Mgmt</td><td>No </td><td>62.00</td><td>Mkt&amp;HR </td><td>65.04</td><td>Not Placed</td><td><span style=white-space:pre-wrap>    NA</span></td></tr>\n",
       "\t<tr><td>14</td><td>F</td><td>77.00</td><td>Central</td><td>87.00</td><td>Central</td><td>Commerce</td><td>59.00</td><td>Comm&amp;Mgmt</td><td>No </td><td>68.00</td><td>Mkt&amp;Fin</td><td>68.63</td><td><span style=white-space:pre-wrap>Placed    </span></td><td>218000</td></tr>\n",
       "\t<tr><td>15</td><td>M</td><td>62.00</td><td>Central</td><td>47.00</td><td>Central</td><td>Commerce</td><td>50.00</td><td>Comm&amp;Mgmt</td><td>No </td><td>76.00</td><td>Mkt&amp;HR </td><td>54.96</td><td>Not Placed</td><td><span style=white-space:pre-wrap>    NA</span></td></tr>\n",
       "\t<tr><td>16</td><td>F</td><td>65.00</td><td>Central</td><td>75.00</td><td>Central</td><td>Commerce</td><td>69.00</td><td>Comm&amp;Mgmt</td><td>Yes</td><td>72.00</td><td>Mkt&amp;Fin</td><td>64.66</td><td><span style=white-space:pre-wrap>Placed    </span></td><td>200000</td></tr>\n",
       "\t<tr><td>17</td><td>M</td><td>63.00</td><td>Central</td><td>66.20</td><td>Central</td><td>Commerce</td><td>65.60</td><td>Comm&amp;Mgmt</td><td>Yes</td><td>60.00</td><td>Mkt&amp;Fin</td><td>62.54</td><td><span style=white-space:pre-wrap>Placed    </span></td><td>300000</td></tr>\n",
       "\t<tr><td>18</td><td>F</td><td>55.00</td><td>Central</td><td>67.00</td><td>Central</td><td>Commerce</td><td>64.00</td><td>Comm&amp;Mgmt</td><td>No </td><td>60.00</td><td>Mkt&amp;Fin</td><td>67.28</td><td>Not Placed</td><td><span style=white-space:pre-wrap>    NA</span></td></tr>\n",
       "\t<tr><td>19</td><td>F</td><td>63.00</td><td>Central</td><td>66.00</td><td>Central</td><td>Commerce</td><td>64.00</td><td>Comm&amp;Mgmt</td><td>No </td><td>68.00</td><td>Mkt&amp;HR </td><td>64.08</td><td>Not Placed</td><td><span style=white-space:pre-wrap>    NA</span></td></tr>\n",
       "\t<tr><td>20</td><td>M</td><td>60.00</td><td>Others </td><td>67.00</td><td>Others </td><td><span style=white-space:pre-wrap>Arts    </span></td><td>70.00</td><td>Comm&amp;Mgmt</td><td>Yes</td><td>50.48</td><td>Mkt&amp;Fin</td><td>77.89</td><td><span style=white-space:pre-wrap>Placed    </span></td><td>236000</td></tr>\n",
       "\t<tr><td>21</td><td>M</td><td>62.00</td><td>Others </td><td>65.00</td><td>Others </td><td>Commerce</td><td>66.00</td><td>Comm&amp;Mgmt</td><td>No </td><td>50.00</td><td>Mkt&amp;HR </td><td>56.70</td><td><span style=white-space:pre-wrap>Placed    </span></td><td>265000</td></tr>\n",
       "\t<tr><td>22</td><td>F</td><td>79.00</td><td>Others </td><td>76.00</td><td>Others </td><td>Commerce</td><td>85.00</td><td>Comm&amp;Mgmt</td><td>No </td><td>95.00</td><td>Mkt&amp;Fin</td><td>69.06</td><td><span style=white-space:pre-wrap>Placed    </span></td><td>393000</td></tr>\n",
       "\t<tr><td>23</td><td>F</td><td>69.80</td><td>Others </td><td>60.80</td><td>Others </td><td>Science </td><td>72.23</td><td>Sci&amp;Tech </td><td>No </td><td>55.53</td><td>Mkt&amp;HR </td><td>68.81</td><td><span style=white-space:pre-wrap>Placed    </span></td><td>360000</td></tr>\n",
       "\t<tr><td>24</td><td>F</td><td>77.40</td><td>Others </td><td>60.00</td><td>Others </td><td>Science </td><td>64.74</td><td>Sci&amp;Tech </td><td>Yes</td><td>92.00</td><td>Mkt&amp;Fin</td><td>63.62</td><td><span style=white-space:pre-wrap>Placed    </span></td><td>300000</td></tr>\n",
       "\t<tr><td>25</td><td>M</td><td>76.50</td><td>Others </td><td>97.70</td><td>Others </td><td>Science </td><td>78.86</td><td>Sci&amp;Tech </td><td>No </td><td>97.40</td><td>Mkt&amp;Fin</td><td>74.01</td><td><span style=white-space:pre-wrap>Placed    </span></td><td>360000</td></tr>\n",
       "\t<tr><td>26</td><td>F</td><td>52.58</td><td>Others </td><td>54.60</td><td>Central</td><td>Commerce</td><td>50.20</td><td>Comm&amp;Mgmt</td><td>Yes</td><td>76.00</td><td>Mkt&amp;Fin</td><td>65.33</td><td>Not Placed</td><td><span style=white-space:pre-wrap>    NA</span></td></tr>\n",
       "\t<tr><td>27</td><td>M</td><td>71.00</td><td>Others </td><td>79.00</td><td>Others </td><td>Commerce</td><td>66.00</td><td>Comm&amp;Mgmt</td><td>Yes</td><td>94.00</td><td>Mkt&amp;Fin</td><td>57.55</td><td><span style=white-space:pre-wrap>Placed    </span></td><td>240000</td></tr>\n",
       "\t<tr><td>28</td><td>M</td><td>63.00</td><td>Others </td><td>67.00</td><td>Others </td><td>Commerce</td><td>66.00</td><td>Comm&amp;Mgmt</td><td>No </td><td>68.00</td><td>Mkt&amp;HR </td><td>57.69</td><td><span style=white-space:pre-wrap>Placed    </span></td><td>265000</td></tr>\n",
       "\t<tr><td>29</td><td>M</td><td>76.76</td><td>Others </td><td>76.50</td><td>Others </td><td>Commerce</td><td>67.50</td><td>Comm&amp;Mgmt</td><td>Yes</td><td>73.35</td><td>Mkt&amp;Fin</td><td>64.15</td><td><span style=white-space:pre-wrap>Placed    </span></td><td>350000</td></tr>\n",
       "\t<tr><td>30</td><td>M</td><td>62.00</td><td>Central</td><td>67.00</td><td>Central</td><td>Commerce</td><td>58.00</td><td>Comm&amp;Mgmt</td><td>No </td><td>77.00</td><td>Mkt&amp;Fin</td><td>51.29</td><td>Not Placed</td><td><span style=white-space:pre-wrap>    NA</span></td></tr>\n",
       "\t<tr><td>...</td><td>...</td><td>...</td><td>...</td><td>...</td><td>...</td><td>...</td><td>...</td><td>...</td><td>...</td><td>...</td><td>...</td><td>...</td><td>...</td><td>...</td></tr>\n",
       "\t<tr><td>186</td><td>F</td><td>88.00</td><td>Central</td><td>72.00</td><td>Central</td><td>Science </td><td>78.00</td><td><span style=white-space:pre-wrap>Others   </span></td><td>No </td><td>82.00</td><td>Mkt&amp;HR </td><td>71.43</td><td><span style=white-space:pre-wrap>Placed    </span></td><td>252000</td></tr>\n",
       "\t<tr><td>187</td><td>F</td><td>52.00</td><td>Central</td><td>64.00</td><td>Central</td><td>Commerce</td><td>61.00</td><td>Comm&amp;Mgmt</td><td>No </td><td>55.00</td><td>Mkt&amp;Fin</td><td>62.93</td><td>Not Placed</td><td><span style=white-space:pre-wrap>    NA</span></td></tr>\n",
       "\t<tr><td>188</td><td>M</td><td>78.50</td><td>Central</td><td>65.50</td><td>Central</td><td>Science </td><td>67.00</td><td>Sci&amp;Tech </td><td>Yes</td><td>95.00</td><td>Mkt&amp;Fin</td><td>64.86</td><td><span style=white-space:pre-wrap>Placed    </span></td><td>280000</td></tr>\n",
       "\t<tr><td>189</td><td>M</td><td>61.80</td><td>Others </td><td>47.00</td><td>Others </td><td>Commerce</td><td>54.38</td><td>Comm&amp;Mgmt</td><td>No </td><td>57.00</td><td>Mkt&amp;Fin</td><td>56.13</td><td>Not Placed</td><td><span style=white-space:pre-wrap>    NA</span></td></tr>\n",
       "\t<tr><td>190</td><td>F</td><td>54.00</td><td>Central</td><td>77.60</td><td>Others </td><td>Commerce</td><td>69.20</td><td>Comm&amp;Mgmt</td><td>No </td><td>95.65</td><td>Mkt&amp;Fin</td><td>66.94</td><td>Not Placed</td><td><span style=white-space:pre-wrap>    NA</span></td></tr>\n",
       "\t<tr><td>191</td><td>F</td><td>64.00</td><td>Others </td><td>70.20</td><td>Central</td><td>Commerce</td><td>61.00</td><td>Comm&amp;Mgmt</td><td>No </td><td>50.00</td><td>Mkt&amp;Fin</td><td>62.50</td><td>Not Placed</td><td><span style=white-space:pre-wrap>    NA</span></td></tr>\n",
       "\t<tr><td>192</td><td>M</td><td>67.00</td><td>Others </td><td>61.00</td><td>Central</td><td>Science </td><td>72.00</td><td>Comm&amp;Mgmt</td><td>No </td><td>72.00</td><td>Mkt&amp;Fin</td><td>61.01</td><td><span style=white-space:pre-wrap>Placed    </span></td><td>264000</td></tr>\n",
       "\t<tr><td>193</td><td>M</td><td>65.20</td><td>Central</td><td>61.40</td><td>Central</td><td>Commerce</td><td>64.80</td><td>Comm&amp;Mgmt</td><td>Yes</td><td>93.40</td><td>Mkt&amp;Fin</td><td>57.34</td><td><span style=white-space:pre-wrap>Placed    </span></td><td>270000</td></tr>\n",
       "\t<tr><td>194</td><td>F</td><td>60.00</td><td>Central</td><td>63.00</td><td>Central</td><td><span style=white-space:pre-wrap>Arts    </span></td><td>56.00</td><td><span style=white-space:pre-wrap>Others   </span></td><td>Yes</td><td>80.00</td><td>Mkt&amp;HR </td><td>56.63</td><td><span style=white-space:pre-wrap>Placed    </span></td><td>300000</td></tr>\n",
       "\t<tr><td>195</td><td>M</td><td>52.00</td><td>Others </td><td>55.00</td><td>Others </td><td>Commerce</td><td>56.30</td><td>Comm&amp;Mgmt</td><td>No </td><td>59.00</td><td>Mkt&amp;Fin</td><td>64.74</td><td>Not Placed</td><td><span style=white-space:pre-wrap>    NA</span></td></tr>\n",
       "\t<tr><td>196</td><td>M</td><td>66.00</td><td>Central</td><td>76.00</td><td>Central</td><td>Commerce</td><td>72.00</td><td>Comm&amp;Mgmt</td><td>Yes</td><td>84.00</td><td>Mkt&amp;HR </td><td>58.95</td><td><span style=white-space:pre-wrap>Placed    </span></td><td>275000</td></tr>\n",
       "\t<tr><td>197</td><td>M</td><td>72.00</td><td>Others </td><td>63.00</td><td>Others </td><td>Science </td><td>77.50</td><td>Sci&amp;Tech </td><td>Yes</td><td>78.00</td><td>Mkt&amp;Fin</td><td>54.48</td><td><span style=white-space:pre-wrap>Placed    </span></td><td>250000</td></tr>\n",
       "\t<tr><td>198</td><td>F</td><td>83.96</td><td>Others </td><td>53.00</td><td>Others </td><td>Science </td><td>91.00</td><td>Sci&amp;Tech </td><td>No </td><td>59.32</td><td>Mkt&amp;HR </td><td>69.71</td><td><span style=white-space:pre-wrap>Placed    </span></td><td>260000</td></tr>\n",
       "\t<tr><td>199</td><td>F</td><td>67.00</td><td>Central</td><td>70.00</td><td>Central</td><td>Commerce</td><td>65.00</td><td><span style=white-space:pre-wrap>Others   </span></td><td>No </td><td>88.00</td><td>Mkt&amp;HR </td><td>71.96</td><td>Not Placed</td><td><span style=white-space:pre-wrap>    NA</span></td></tr>\n",
       "\t<tr><td>200</td><td>M</td><td>69.00</td><td>Others </td><td>65.00</td><td>Others </td><td>Commerce</td><td>57.00</td><td>Comm&amp;Mgmt</td><td>No </td><td>73.00</td><td>Mkt&amp;HR </td><td>55.80</td><td><span style=white-space:pre-wrap>Placed    </span></td><td>265000</td></tr>\n",
       "\t<tr><td>201</td><td>M</td><td>69.00</td><td>Others </td><td>60.00</td><td>Others </td><td>Commerce</td><td>65.00</td><td>Comm&amp;Mgmt</td><td>No </td><td>87.55</td><td>Mkt&amp;Fin</td><td>52.81</td><td><span style=white-space:pre-wrap>Placed    </span></td><td>300000</td></tr>\n",
       "\t<tr><td>202</td><td>M</td><td>54.20</td><td>Central</td><td>63.00</td><td>Others </td><td>Science </td><td>58.00</td><td>Comm&amp;Mgmt</td><td>No </td><td>79.00</td><td>Mkt&amp;HR </td><td>58.44</td><td>Not Placed</td><td><span style=white-space:pre-wrap>    NA</span></td></tr>\n",
       "\t<tr><td>203</td><td>M</td><td>70.00</td><td>Central</td><td>63.00</td><td>Central</td><td>Science </td><td>66.00</td><td>Sci&amp;Tech </td><td>No </td><td>61.28</td><td>Mkt&amp;HR </td><td>60.11</td><td><span style=white-space:pre-wrap>Placed    </span></td><td>240000</td></tr>\n",
       "\t<tr><td>204</td><td>M</td><td>55.68</td><td>Others </td><td>61.33</td><td>Others </td><td>Commerce</td><td>56.87</td><td>Comm&amp;Mgmt</td><td>No </td><td>66.00</td><td>Mkt&amp;HR </td><td>58.30</td><td><span style=white-space:pre-wrap>Placed    </span></td><td>260000</td></tr>\n",
       "\t<tr><td>205</td><td>F</td><td>74.00</td><td>Others </td><td>73.00</td><td>Others </td><td>Commerce</td><td>73.00</td><td>Comm&amp;Mgmt</td><td>Yes</td><td>80.00</td><td>Mkt&amp;Fin</td><td>67.69</td><td><span style=white-space:pre-wrap>Placed    </span></td><td>210000</td></tr>\n",
       "\t<tr><td>206</td><td>M</td><td>61.00</td><td>Others </td><td>62.00</td><td>Others </td><td>Commerce</td><td>65.00</td><td>Comm&amp;Mgmt</td><td>No </td><td>62.00</td><td>Mkt&amp;Fin</td><td>56.81</td><td><span style=white-space:pre-wrap>Placed    </span></td><td>250000</td></tr>\n",
       "\t<tr><td>207</td><td>M</td><td>41.00</td><td>Central</td><td>42.00</td><td>Central</td><td>Science </td><td>60.00</td><td>Comm&amp;Mgmt</td><td>No </td><td>97.00</td><td>Mkt&amp;Fin</td><td>53.39</td><td>Not Placed</td><td><span style=white-space:pre-wrap>    NA</span></td></tr>\n",
       "\t<tr><td>208</td><td>M</td><td>83.33</td><td>Central</td><td>78.00</td><td>Others </td><td>Commerce</td><td>61.00</td><td>Comm&amp;Mgmt</td><td>Yes</td><td>88.56</td><td>Mkt&amp;Fin</td><td>71.55</td><td><span style=white-space:pre-wrap>Placed    </span></td><td>300000</td></tr>\n",
       "\t<tr><td>209</td><td>F</td><td>43.00</td><td>Central</td><td>60.00</td><td>Others </td><td>Science </td><td>65.00</td><td>Comm&amp;Mgmt</td><td>No </td><td>92.66</td><td>Mkt&amp;HR </td><td>62.92</td><td>Not Placed</td><td><span style=white-space:pre-wrap>    NA</span></td></tr>\n",
       "\t<tr><td>210</td><td>M</td><td>62.00</td><td>Central</td><td>72.00</td><td>Central</td><td>Commerce</td><td>65.00</td><td>Comm&amp;Mgmt</td><td>No </td><td>67.00</td><td>Mkt&amp;Fin</td><td>56.49</td><td><span style=white-space:pre-wrap>Placed    </span></td><td>216000</td></tr>\n",
       "\t<tr><td>211</td><td>M</td><td>80.60</td><td>Others </td><td>82.00</td><td>Others </td><td>Commerce</td><td>77.60</td><td>Comm&amp;Mgmt</td><td>No </td><td>91.00</td><td>Mkt&amp;Fin</td><td>74.49</td><td><span style=white-space:pre-wrap>Placed    </span></td><td>400000</td></tr>\n",
       "\t<tr><td>212</td><td>M</td><td>58.00</td><td>Others </td><td>60.00</td><td>Others </td><td>Science </td><td>72.00</td><td>Sci&amp;Tech </td><td>No </td><td>74.00</td><td>Mkt&amp;Fin</td><td>53.62</td><td><span style=white-space:pre-wrap>Placed    </span></td><td>275000</td></tr>\n",
       "\t<tr><td>213</td><td>M</td><td>67.00</td><td>Others </td><td>67.00</td><td>Others </td><td>Commerce</td><td>73.00</td><td>Comm&amp;Mgmt</td><td>Yes</td><td>59.00</td><td>Mkt&amp;Fin</td><td>69.72</td><td><span style=white-space:pre-wrap>Placed    </span></td><td>295000</td></tr>\n",
       "\t<tr><td>214</td><td>F</td><td>74.00</td><td>Others </td><td>66.00</td><td>Others </td><td>Commerce</td><td>58.00</td><td>Comm&amp;Mgmt</td><td>No </td><td>70.00</td><td>Mkt&amp;HR </td><td>60.23</td><td><span style=white-space:pre-wrap>Placed    </span></td><td>204000</td></tr>\n",
       "\t<tr><td>215</td><td>M</td><td>62.00</td><td>Central</td><td>58.00</td><td>Others </td><td>Science </td><td>53.00</td><td>Comm&amp;Mgmt</td><td>No </td><td>89.00</td><td>Mkt&amp;HR </td><td>60.22</td><td>Not Placed</td><td><span style=white-space:pre-wrap>    NA</span></td></tr>\n",
       "</tbody>\n",
       "</table>\n"
      ],
      "text/latex": [
       "A data.frame: 215 × 15\n",
       "\\begin{tabular}{lllllllllllllll}\n",
       " Sl\\_no & gender & ssc\\_percent & ssc\\_board\\_of\\_education & hsc\\_percent & hsc\\_board & hsc\\_specialization & degree\\_percent & degree\\_type & work\\_experience & employment\\_test\\_percent & specialisation & mba\\_percent & status & salary\\\\\n",
       " <int> & <chr> & <dbl> & <chr> & <dbl> & <chr> & <chr> & <dbl> & <chr> & <chr> & <dbl> & <chr> & <dbl> & <chr> & <int>\\\\\n",
       "\\hline\n",
       "\t  1 & M & 67.00 & Others  & 91.00 & Others  & Commerce & 58.00 & Sci\\&Tech  & No  & 55.00 & Mkt\\&HR  & 58.80 & Placed     & 270000\\\\\n",
       "\t  2 & M & 79.33 & Central & 78.33 & Others  & Science  & 77.48 & Sci\\&Tech  & Yes & 86.50 & Mkt\\&Fin & 66.28 & Placed     & 200000\\\\\n",
       "\t  3 & M & 65.00 & Central & 68.00 & Central & Arts     & 64.00 & Comm\\&Mgmt & No  & 75.00 & Mkt\\&Fin & 57.80 & Placed     & 250000\\\\\n",
       "\t  4 & M & 56.00 & Central & 52.00 & Central & Science  & 52.00 & Sci\\&Tech  & No  & 66.00 & Mkt\\&HR  & 59.43 & Not Placed &     NA\\\\\n",
       "\t  5 & M & 85.80 & Central & 73.60 & Central & Commerce & 73.30 & Comm\\&Mgmt & No  & 96.80 & Mkt\\&Fin & 55.50 & Placed     & 425000\\\\\n",
       "\t  6 & M & 55.00 & Others  & 49.80 & Others  & Science  & 67.25 & Sci\\&Tech  & Yes & 55.00 & Mkt\\&Fin & 51.58 & Not Placed &     NA\\\\\n",
       "\t  7 & F & 46.00 & Others  & 49.20 & Others  & Commerce & 79.00 & Comm\\&Mgmt & No  & 74.28 & Mkt\\&Fin & 53.29 & Not Placed &     NA\\\\\n",
       "\t  8 & M & 82.00 & Central & 64.00 & Central & Science  & 66.00 & Sci\\&Tech  & Yes & 67.00 & Mkt\\&Fin & 62.14 & Placed     & 252000\\\\\n",
       "\t  9 & M & 73.00 & Central & 79.00 & Central & Commerce & 72.00 & Comm\\&Mgmt & No  & 91.34 & Mkt\\&Fin & 61.29 & Placed     & 231000\\\\\n",
       "\t 10 & M & 58.00 & Central & 70.00 & Central & Commerce & 61.00 & Comm\\&Mgmt & No  & 54.00 & Mkt\\&Fin & 52.21 & Not Placed &     NA\\\\\n",
       "\t 11 & M & 58.00 & Central & 61.00 & Central & Commerce & 60.00 & Comm\\&Mgmt & Yes & 62.00 & Mkt\\&HR  & 60.85 & Placed     & 260000\\\\\n",
       "\t 12 & M & 69.60 & Central & 68.40 & Central & Commerce & 78.30 & Comm\\&Mgmt & Yes & 60.00 & Mkt\\&Fin & 63.70 & Placed     & 250000\\\\\n",
       "\t 13 & F & 47.00 & Central & 55.00 & Others  & Science  & 65.00 & Comm\\&Mgmt & No  & 62.00 & Mkt\\&HR  & 65.04 & Not Placed &     NA\\\\\n",
       "\t 14 & F & 77.00 & Central & 87.00 & Central & Commerce & 59.00 & Comm\\&Mgmt & No  & 68.00 & Mkt\\&Fin & 68.63 & Placed     & 218000\\\\\n",
       "\t 15 & M & 62.00 & Central & 47.00 & Central & Commerce & 50.00 & Comm\\&Mgmt & No  & 76.00 & Mkt\\&HR  & 54.96 & Not Placed &     NA\\\\\n",
       "\t 16 & F & 65.00 & Central & 75.00 & Central & Commerce & 69.00 & Comm\\&Mgmt & Yes & 72.00 & Mkt\\&Fin & 64.66 & Placed     & 200000\\\\\n",
       "\t 17 & M & 63.00 & Central & 66.20 & Central & Commerce & 65.60 & Comm\\&Mgmt & Yes & 60.00 & Mkt\\&Fin & 62.54 & Placed     & 300000\\\\\n",
       "\t 18 & F & 55.00 & Central & 67.00 & Central & Commerce & 64.00 & Comm\\&Mgmt & No  & 60.00 & Mkt\\&Fin & 67.28 & Not Placed &     NA\\\\\n",
       "\t 19 & F & 63.00 & Central & 66.00 & Central & Commerce & 64.00 & Comm\\&Mgmt & No  & 68.00 & Mkt\\&HR  & 64.08 & Not Placed &     NA\\\\\n",
       "\t 20 & M & 60.00 & Others  & 67.00 & Others  & Arts     & 70.00 & Comm\\&Mgmt & Yes & 50.48 & Mkt\\&Fin & 77.89 & Placed     & 236000\\\\\n",
       "\t 21 & M & 62.00 & Others  & 65.00 & Others  & Commerce & 66.00 & Comm\\&Mgmt & No  & 50.00 & Mkt\\&HR  & 56.70 & Placed     & 265000\\\\\n",
       "\t 22 & F & 79.00 & Others  & 76.00 & Others  & Commerce & 85.00 & Comm\\&Mgmt & No  & 95.00 & Mkt\\&Fin & 69.06 & Placed     & 393000\\\\\n",
       "\t 23 & F & 69.80 & Others  & 60.80 & Others  & Science  & 72.23 & Sci\\&Tech  & No  & 55.53 & Mkt\\&HR  & 68.81 & Placed     & 360000\\\\\n",
       "\t 24 & F & 77.40 & Others  & 60.00 & Others  & Science  & 64.74 & Sci\\&Tech  & Yes & 92.00 & Mkt\\&Fin & 63.62 & Placed     & 300000\\\\\n",
       "\t 25 & M & 76.50 & Others  & 97.70 & Others  & Science  & 78.86 & Sci\\&Tech  & No  & 97.40 & Mkt\\&Fin & 74.01 & Placed     & 360000\\\\\n",
       "\t 26 & F & 52.58 & Others  & 54.60 & Central & Commerce & 50.20 & Comm\\&Mgmt & Yes & 76.00 & Mkt\\&Fin & 65.33 & Not Placed &     NA\\\\\n",
       "\t 27 & M & 71.00 & Others  & 79.00 & Others  & Commerce & 66.00 & Comm\\&Mgmt & Yes & 94.00 & Mkt\\&Fin & 57.55 & Placed     & 240000\\\\\n",
       "\t 28 & M & 63.00 & Others  & 67.00 & Others  & Commerce & 66.00 & Comm\\&Mgmt & No  & 68.00 & Mkt\\&HR  & 57.69 & Placed     & 265000\\\\\n",
       "\t 29 & M & 76.76 & Others  & 76.50 & Others  & Commerce & 67.50 & Comm\\&Mgmt & Yes & 73.35 & Mkt\\&Fin & 64.15 & Placed     & 350000\\\\\n",
       "\t 30 & M & 62.00 & Central & 67.00 & Central & Commerce & 58.00 & Comm\\&Mgmt & No  & 77.00 & Mkt\\&Fin & 51.29 & Not Placed &     NA\\\\\n",
       "\t ... & ... & ... & ... & ... & ... & ... & ... & ... & ... & ... & ... & ... & ... & ...\\\\\n",
       "\t 186 & F & 88.00 & Central & 72.00 & Central & Science  & 78.00 & Others    & No  & 82.00 & Mkt\\&HR  & 71.43 & Placed     & 252000\\\\\n",
       "\t 187 & F & 52.00 & Central & 64.00 & Central & Commerce & 61.00 & Comm\\&Mgmt & No  & 55.00 & Mkt\\&Fin & 62.93 & Not Placed &     NA\\\\\n",
       "\t 188 & M & 78.50 & Central & 65.50 & Central & Science  & 67.00 & Sci\\&Tech  & Yes & 95.00 & Mkt\\&Fin & 64.86 & Placed     & 280000\\\\\n",
       "\t 189 & M & 61.80 & Others  & 47.00 & Others  & Commerce & 54.38 & Comm\\&Mgmt & No  & 57.00 & Mkt\\&Fin & 56.13 & Not Placed &     NA\\\\\n",
       "\t 190 & F & 54.00 & Central & 77.60 & Others  & Commerce & 69.20 & Comm\\&Mgmt & No  & 95.65 & Mkt\\&Fin & 66.94 & Not Placed &     NA\\\\\n",
       "\t 191 & F & 64.00 & Others  & 70.20 & Central & Commerce & 61.00 & Comm\\&Mgmt & No  & 50.00 & Mkt\\&Fin & 62.50 & Not Placed &     NA\\\\\n",
       "\t 192 & M & 67.00 & Others  & 61.00 & Central & Science  & 72.00 & Comm\\&Mgmt & No  & 72.00 & Mkt\\&Fin & 61.01 & Placed     & 264000\\\\\n",
       "\t 193 & M & 65.20 & Central & 61.40 & Central & Commerce & 64.80 & Comm\\&Mgmt & Yes & 93.40 & Mkt\\&Fin & 57.34 & Placed     & 270000\\\\\n",
       "\t 194 & F & 60.00 & Central & 63.00 & Central & Arts     & 56.00 & Others    & Yes & 80.00 & Mkt\\&HR  & 56.63 & Placed     & 300000\\\\\n",
       "\t 195 & M & 52.00 & Others  & 55.00 & Others  & Commerce & 56.30 & Comm\\&Mgmt & No  & 59.00 & Mkt\\&Fin & 64.74 & Not Placed &     NA\\\\\n",
       "\t 196 & M & 66.00 & Central & 76.00 & Central & Commerce & 72.00 & Comm\\&Mgmt & Yes & 84.00 & Mkt\\&HR  & 58.95 & Placed     & 275000\\\\\n",
       "\t 197 & M & 72.00 & Others  & 63.00 & Others  & Science  & 77.50 & Sci\\&Tech  & Yes & 78.00 & Mkt\\&Fin & 54.48 & Placed     & 250000\\\\\n",
       "\t 198 & F & 83.96 & Others  & 53.00 & Others  & Science  & 91.00 & Sci\\&Tech  & No  & 59.32 & Mkt\\&HR  & 69.71 & Placed     & 260000\\\\\n",
       "\t 199 & F & 67.00 & Central & 70.00 & Central & Commerce & 65.00 & Others    & No  & 88.00 & Mkt\\&HR  & 71.96 & Not Placed &     NA\\\\\n",
       "\t 200 & M & 69.00 & Others  & 65.00 & Others  & Commerce & 57.00 & Comm\\&Mgmt & No  & 73.00 & Mkt\\&HR  & 55.80 & Placed     & 265000\\\\\n",
       "\t 201 & M & 69.00 & Others  & 60.00 & Others  & Commerce & 65.00 & Comm\\&Mgmt & No  & 87.55 & Mkt\\&Fin & 52.81 & Placed     & 300000\\\\\n",
       "\t 202 & M & 54.20 & Central & 63.00 & Others  & Science  & 58.00 & Comm\\&Mgmt & No  & 79.00 & Mkt\\&HR  & 58.44 & Not Placed &     NA\\\\\n",
       "\t 203 & M & 70.00 & Central & 63.00 & Central & Science  & 66.00 & Sci\\&Tech  & No  & 61.28 & Mkt\\&HR  & 60.11 & Placed     & 240000\\\\\n",
       "\t 204 & M & 55.68 & Others  & 61.33 & Others  & Commerce & 56.87 & Comm\\&Mgmt & No  & 66.00 & Mkt\\&HR  & 58.30 & Placed     & 260000\\\\\n",
       "\t 205 & F & 74.00 & Others  & 73.00 & Others  & Commerce & 73.00 & Comm\\&Mgmt & Yes & 80.00 & Mkt\\&Fin & 67.69 & Placed     & 210000\\\\\n",
       "\t 206 & M & 61.00 & Others  & 62.00 & Others  & Commerce & 65.00 & Comm\\&Mgmt & No  & 62.00 & Mkt\\&Fin & 56.81 & Placed     & 250000\\\\\n",
       "\t 207 & M & 41.00 & Central & 42.00 & Central & Science  & 60.00 & Comm\\&Mgmt & No  & 97.00 & Mkt\\&Fin & 53.39 & Not Placed &     NA\\\\\n",
       "\t 208 & M & 83.33 & Central & 78.00 & Others  & Commerce & 61.00 & Comm\\&Mgmt & Yes & 88.56 & Mkt\\&Fin & 71.55 & Placed     & 300000\\\\\n",
       "\t 209 & F & 43.00 & Central & 60.00 & Others  & Science  & 65.00 & Comm\\&Mgmt & No  & 92.66 & Mkt\\&HR  & 62.92 & Not Placed &     NA\\\\\n",
       "\t 210 & M & 62.00 & Central & 72.00 & Central & Commerce & 65.00 & Comm\\&Mgmt & No  & 67.00 & Mkt\\&Fin & 56.49 & Placed     & 216000\\\\\n",
       "\t 211 & M & 80.60 & Others  & 82.00 & Others  & Commerce & 77.60 & Comm\\&Mgmt & No  & 91.00 & Mkt\\&Fin & 74.49 & Placed     & 400000\\\\\n",
       "\t 212 & M & 58.00 & Others  & 60.00 & Others  & Science  & 72.00 & Sci\\&Tech  & No  & 74.00 & Mkt\\&Fin & 53.62 & Placed     & 275000\\\\\n",
       "\t 213 & M & 67.00 & Others  & 67.00 & Others  & Commerce & 73.00 & Comm\\&Mgmt & Yes & 59.00 & Mkt\\&Fin & 69.72 & Placed     & 295000\\\\\n",
       "\t 214 & F & 74.00 & Others  & 66.00 & Others  & Commerce & 58.00 & Comm\\&Mgmt & No  & 70.00 & Mkt\\&HR  & 60.23 & Placed     & 204000\\\\\n",
       "\t 215 & M & 62.00 & Central & 58.00 & Others  & Science  & 53.00 & Comm\\&Mgmt & No  & 89.00 & Mkt\\&HR  & 60.22 & Not Placed &     NA\\\\\n",
       "\\end{tabular}\n"
      ],
      "text/markdown": [
       "\n",
       "A data.frame: 215 × 15\n",
       "\n",
       "| Sl_no &lt;int&gt; | gender &lt;chr&gt; | ssc_percent &lt;dbl&gt; | ssc_board_of_education &lt;chr&gt; | hsc_percent &lt;dbl&gt; | hsc_board &lt;chr&gt; | hsc_specialization &lt;chr&gt; | degree_percent &lt;dbl&gt; | degree_type &lt;chr&gt; | work_experience &lt;chr&gt; | employment_test_percent &lt;dbl&gt; | specialisation &lt;chr&gt; | mba_percent &lt;dbl&gt; | status &lt;chr&gt; | salary &lt;int&gt; |\n",
       "|---|---|---|---|---|---|---|---|---|---|---|---|---|---|---|\n",
       "|  1 | M | 67.00 | Others  | 91.00 | Others  | Commerce | 58.00 | Sci&amp;Tech  | No  | 55.00 | Mkt&amp;HR  | 58.80 | Placed     | 270000 |\n",
       "|  2 | M | 79.33 | Central | 78.33 | Others  | Science  | 77.48 | Sci&amp;Tech  | Yes | 86.50 | Mkt&amp;Fin | 66.28 | Placed     | 200000 |\n",
       "|  3 | M | 65.00 | Central | 68.00 | Central | Arts     | 64.00 | Comm&amp;Mgmt | No  | 75.00 | Mkt&amp;Fin | 57.80 | Placed     | 250000 |\n",
       "|  4 | M | 56.00 | Central | 52.00 | Central | Science  | 52.00 | Sci&amp;Tech  | No  | 66.00 | Mkt&amp;HR  | 59.43 | Not Placed |     NA |\n",
       "|  5 | M | 85.80 | Central | 73.60 | Central | Commerce | 73.30 | Comm&amp;Mgmt | No  | 96.80 | Mkt&amp;Fin | 55.50 | Placed     | 425000 |\n",
       "|  6 | M | 55.00 | Others  | 49.80 | Others  | Science  | 67.25 | Sci&amp;Tech  | Yes | 55.00 | Mkt&amp;Fin | 51.58 | Not Placed |     NA |\n",
       "|  7 | F | 46.00 | Others  | 49.20 | Others  | Commerce | 79.00 | Comm&amp;Mgmt | No  | 74.28 | Mkt&amp;Fin | 53.29 | Not Placed |     NA |\n",
       "|  8 | M | 82.00 | Central | 64.00 | Central | Science  | 66.00 | Sci&amp;Tech  | Yes | 67.00 | Mkt&amp;Fin | 62.14 | Placed     | 252000 |\n",
       "|  9 | M | 73.00 | Central | 79.00 | Central | Commerce | 72.00 | Comm&amp;Mgmt | No  | 91.34 | Mkt&amp;Fin | 61.29 | Placed     | 231000 |\n",
       "| 10 | M | 58.00 | Central | 70.00 | Central | Commerce | 61.00 | Comm&amp;Mgmt | No  | 54.00 | Mkt&amp;Fin | 52.21 | Not Placed |     NA |\n",
       "| 11 | M | 58.00 | Central | 61.00 | Central | Commerce | 60.00 | Comm&amp;Mgmt | Yes | 62.00 | Mkt&amp;HR  | 60.85 | Placed     | 260000 |\n",
       "| 12 | M | 69.60 | Central | 68.40 | Central | Commerce | 78.30 | Comm&amp;Mgmt | Yes | 60.00 | Mkt&amp;Fin | 63.70 | Placed     | 250000 |\n",
       "| 13 | F | 47.00 | Central | 55.00 | Others  | Science  | 65.00 | Comm&amp;Mgmt | No  | 62.00 | Mkt&amp;HR  | 65.04 | Not Placed |     NA |\n",
       "| 14 | F | 77.00 | Central | 87.00 | Central | Commerce | 59.00 | Comm&amp;Mgmt | No  | 68.00 | Mkt&amp;Fin | 68.63 | Placed     | 218000 |\n",
       "| 15 | M | 62.00 | Central | 47.00 | Central | Commerce | 50.00 | Comm&amp;Mgmt | No  | 76.00 | Mkt&amp;HR  | 54.96 | Not Placed |     NA |\n",
       "| 16 | F | 65.00 | Central | 75.00 | Central | Commerce | 69.00 | Comm&amp;Mgmt | Yes | 72.00 | Mkt&amp;Fin | 64.66 | Placed     | 200000 |\n",
       "| 17 | M | 63.00 | Central | 66.20 | Central | Commerce | 65.60 | Comm&amp;Mgmt | Yes | 60.00 | Mkt&amp;Fin | 62.54 | Placed     | 300000 |\n",
       "| 18 | F | 55.00 | Central | 67.00 | Central | Commerce | 64.00 | Comm&amp;Mgmt | No  | 60.00 | Mkt&amp;Fin | 67.28 | Not Placed |     NA |\n",
       "| 19 | F | 63.00 | Central | 66.00 | Central | Commerce | 64.00 | Comm&amp;Mgmt | No  | 68.00 | Mkt&amp;HR  | 64.08 | Not Placed |     NA |\n",
       "| 20 | M | 60.00 | Others  | 67.00 | Others  | Arts     | 70.00 | Comm&amp;Mgmt | Yes | 50.48 | Mkt&amp;Fin | 77.89 | Placed     | 236000 |\n",
       "| 21 | M | 62.00 | Others  | 65.00 | Others  | Commerce | 66.00 | Comm&amp;Mgmt | No  | 50.00 | Mkt&amp;HR  | 56.70 | Placed     | 265000 |\n",
       "| 22 | F | 79.00 | Others  | 76.00 | Others  | Commerce | 85.00 | Comm&amp;Mgmt | No  | 95.00 | Mkt&amp;Fin | 69.06 | Placed     | 393000 |\n",
       "| 23 | F | 69.80 | Others  | 60.80 | Others  | Science  | 72.23 | Sci&amp;Tech  | No  | 55.53 | Mkt&amp;HR  | 68.81 | Placed     | 360000 |\n",
       "| 24 | F | 77.40 | Others  | 60.00 | Others  | Science  | 64.74 | Sci&amp;Tech  | Yes | 92.00 | Mkt&amp;Fin | 63.62 | Placed     | 300000 |\n",
       "| 25 | M | 76.50 | Others  | 97.70 | Others  | Science  | 78.86 | Sci&amp;Tech  | No  | 97.40 | Mkt&amp;Fin | 74.01 | Placed     | 360000 |\n",
       "| 26 | F | 52.58 | Others  | 54.60 | Central | Commerce | 50.20 | Comm&amp;Mgmt | Yes | 76.00 | Mkt&amp;Fin | 65.33 | Not Placed |     NA |\n",
       "| 27 | M | 71.00 | Others  | 79.00 | Others  | Commerce | 66.00 | Comm&amp;Mgmt | Yes | 94.00 | Mkt&amp;Fin | 57.55 | Placed     | 240000 |\n",
       "| 28 | M | 63.00 | Others  | 67.00 | Others  | Commerce | 66.00 | Comm&amp;Mgmt | No  | 68.00 | Mkt&amp;HR  | 57.69 | Placed     | 265000 |\n",
       "| 29 | M | 76.76 | Others  | 76.50 | Others  | Commerce | 67.50 | Comm&amp;Mgmt | Yes | 73.35 | Mkt&amp;Fin | 64.15 | Placed     | 350000 |\n",
       "| 30 | M | 62.00 | Central | 67.00 | Central | Commerce | 58.00 | Comm&amp;Mgmt | No  | 77.00 | Mkt&amp;Fin | 51.29 | Not Placed |     NA |\n",
       "| ... | ... | ... | ... | ... | ... | ... | ... | ... | ... | ... | ... | ... | ... | ... |\n",
       "| 186 | F | 88.00 | Central | 72.00 | Central | Science  | 78.00 | Others    | No  | 82.00 | Mkt&amp;HR  | 71.43 | Placed     | 252000 |\n",
       "| 187 | F | 52.00 | Central | 64.00 | Central | Commerce | 61.00 | Comm&amp;Mgmt | No  | 55.00 | Mkt&amp;Fin | 62.93 | Not Placed |     NA |\n",
       "| 188 | M | 78.50 | Central | 65.50 | Central | Science  | 67.00 | Sci&amp;Tech  | Yes | 95.00 | Mkt&amp;Fin | 64.86 | Placed     | 280000 |\n",
       "| 189 | M | 61.80 | Others  | 47.00 | Others  | Commerce | 54.38 | Comm&amp;Mgmt | No  | 57.00 | Mkt&amp;Fin | 56.13 | Not Placed |     NA |\n",
       "| 190 | F | 54.00 | Central | 77.60 | Others  | Commerce | 69.20 | Comm&amp;Mgmt | No  | 95.65 | Mkt&amp;Fin | 66.94 | Not Placed |     NA |\n",
       "| 191 | F | 64.00 | Others  | 70.20 | Central | Commerce | 61.00 | Comm&amp;Mgmt | No  | 50.00 | Mkt&amp;Fin | 62.50 | Not Placed |     NA |\n",
       "| 192 | M | 67.00 | Others  | 61.00 | Central | Science  | 72.00 | Comm&amp;Mgmt | No  | 72.00 | Mkt&amp;Fin | 61.01 | Placed     | 264000 |\n",
       "| 193 | M | 65.20 | Central | 61.40 | Central | Commerce | 64.80 | Comm&amp;Mgmt | Yes | 93.40 | Mkt&amp;Fin | 57.34 | Placed     | 270000 |\n",
       "| 194 | F | 60.00 | Central | 63.00 | Central | Arts     | 56.00 | Others    | Yes | 80.00 | Mkt&amp;HR  | 56.63 | Placed     | 300000 |\n",
       "| 195 | M | 52.00 | Others  | 55.00 | Others  | Commerce | 56.30 | Comm&amp;Mgmt | No  | 59.00 | Mkt&amp;Fin | 64.74 | Not Placed |     NA |\n",
       "| 196 | M | 66.00 | Central | 76.00 | Central | Commerce | 72.00 | Comm&amp;Mgmt | Yes | 84.00 | Mkt&amp;HR  | 58.95 | Placed     | 275000 |\n",
       "| 197 | M | 72.00 | Others  | 63.00 | Others  | Science  | 77.50 | Sci&amp;Tech  | Yes | 78.00 | Mkt&amp;Fin | 54.48 | Placed     | 250000 |\n",
       "| 198 | F | 83.96 | Others  | 53.00 | Others  | Science  | 91.00 | Sci&amp;Tech  | No  | 59.32 | Mkt&amp;HR  | 69.71 | Placed     | 260000 |\n",
       "| 199 | F | 67.00 | Central | 70.00 | Central | Commerce | 65.00 | Others    | No  | 88.00 | Mkt&amp;HR  | 71.96 | Not Placed |     NA |\n",
       "| 200 | M | 69.00 | Others  | 65.00 | Others  | Commerce | 57.00 | Comm&amp;Mgmt | No  | 73.00 | Mkt&amp;HR  | 55.80 | Placed     | 265000 |\n",
       "| 201 | M | 69.00 | Others  | 60.00 | Others  | Commerce | 65.00 | Comm&amp;Mgmt | No  | 87.55 | Mkt&amp;Fin | 52.81 | Placed     | 300000 |\n",
       "| 202 | M | 54.20 | Central | 63.00 | Others  | Science  | 58.00 | Comm&amp;Mgmt | No  | 79.00 | Mkt&amp;HR  | 58.44 | Not Placed |     NA |\n",
       "| 203 | M | 70.00 | Central | 63.00 | Central | Science  | 66.00 | Sci&amp;Tech  | No  | 61.28 | Mkt&amp;HR  | 60.11 | Placed     | 240000 |\n",
       "| 204 | M | 55.68 | Others  | 61.33 | Others  | Commerce | 56.87 | Comm&amp;Mgmt | No  | 66.00 | Mkt&amp;HR  | 58.30 | Placed     | 260000 |\n",
       "| 205 | F | 74.00 | Others  | 73.00 | Others  | Commerce | 73.00 | Comm&amp;Mgmt | Yes | 80.00 | Mkt&amp;Fin | 67.69 | Placed     | 210000 |\n",
       "| 206 | M | 61.00 | Others  | 62.00 | Others  | Commerce | 65.00 | Comm&amp;Mgmt | No  | 62.00 | Mkt&amp;Fin | 56.81 | Placed     | 250000 |\n",
       "| 207 | M | 41.00 | Central | 42.00 | Central | Science  | 60.00 | Comm&amp;Mgmt | No  | 97.00 | Mkt&amp;Fin | 53.39 | Not Placed |     NA |\n",
       "| 208 | M | 83.33 | Central | 78.00 | Others  | Commerce | 61.00 | Comm&amp;Mgmt | Yes | 88.56 | Mkt&amp;Fin | 71.55 | Placed     | 300000 |\n",
       "| 209 | F | 43.00 | Central | 60.00 | Others  | Science  | 65.00 | Comm&amp;Mgmt | No  | 92.66 | Mkt&amp;HR  | 62.92 | Not Placed |     NA |\n",
       "| 210 | M | 62.00 | Central | 72.00 | Central | Commerce | 65.00 | Comm&amp;Mgmt | No  | 67.00 | Mkt&amp;Fin | 56.49 | Placed     | 216000 |\n",
       "| 211 | M | 80.60 | Others  | 82.00 | Others  | Commerce | 77.60 | Comm&amp;Mgmt | No  | 91.00 | Mkt&amp;Fin | 74.49 | Placed     | 400000 |\n",
       "| 212 | M | 58.00 | Others  | 60.00 | Others  | Science  | 72.00 | Sci&amp;Tech  | No  | 74.00 | Mkt&amp;Fin | 53.62 | Placed     | 275000 |\n",
       "| 213 | M | 67.00 | Others  | 67.00 | Others  | Commerce | 73.00 | Comm&amp;Mgmt | Yes | 59.00 | Mkt&amp;Fin | 69.72 | Placed     | 295000 |\n",
       "| 214 | F | 74.00 | Others  | 66.00 | Others  | Commerce | 58.00 | Comm&amp;Mgmt | No  | 70.00 | Mkt&amp;HR  | 60.23 | Placed     | 204000 |\n",
       "| 215 | M | 62.00 | Central | 58.00 | Others  | Science  | 53.00 | Comm&amp;Mgmt | No  | 89.00 | Mkt&amp;HR  | 60.22 | Not Placed |     NA |\n",
       "\n"
      ],
      "text/plain": [
       "    Sl_no gender ssc_percent ssc_board_of_education hsc_percent hsc_board\n",
       "1    1    M      67.00       Others                 91.00       Others   \n",
       "2    2    M      79.33       Central                78.33       Others   \n",
       "3    3    M      65.00       Central                68.00       Central  \n",
       "4    4    M      56.00       Central                52.00       Central  \n",
       "5    5    M      85.80       Central                73.60       Central  \n",
       "6    6    M      55.00       Others                 49.80       Others   \n",
       "7    7    F      46.00       Others                 49.20       Others   \n",
       "8    8    M      82.00       Central                64.00       Central  \n",
       "9    9    M      73.00       Central                79.00       Central  \n",
       "10  10    M      58.00       Central                70.00       Central  \n",
       "11  11    M      58.00       Central                61.00       Central  \n",
       "12  12    M      69.60       Central                68.40       Central  \n",
       "13  13    F      47.00       Central                55.00       Others   \n",
       "14  14    F      77.00       Central                87.00       Central  \n",
       "15  15    M      62.00       Central                47.00       Central  \n",
       "16  16    F      65.00       Central                75.00       Central  \n",
       "17  17    M      63.00       Central                66.20       Central  \n",
       "18  18    F      55.00       Central                67.00       Central  \n",
       "19  19    F      63.00       Central                66.00       Central  \n",
       "20  20    M      60.00       Others                 67.00       Others   \n",
       "21  21    M      62.00       Others                 65.00       Others   \n",
       "22  22    F      79.00       Others                 76.00       Others   \n",
       "23  23    F      69.80       Others                 60.80       Others   \n",
       "24  24    F      77.40       Others                 60.00       Others   \n",
       "25  25    M      76.50       Others                 97.70       Others   \n",
       "26  26    F      52.58       Others                 54.60       Central  \n",
       "27  27    M      71.00       Others                 79.00       Others   \n",
       "28  28    M      63.00       Others                 67.00       Others   \n",
       "29  29    M      76.76       Others                 76.50       Others   \n",
       "30  30    M      62.00       Central                67.00       Central  \n",
       "... ...   ...    ...         ...                    ...         ...      \n",
       "186 186   F      88.00       Central                72.00       Central  \n",
       "187 187   F      52.00       Central                64.00       Central  \n",
       "188 188   M      78.50       Central                65.50       Central  \n",
       "189 189   M      61.80       Others                 47.00       Others   \n",
       "190 190   F      54.00       Central                77.60       Others   \n",
       "191 191   F      64.00       Others                 70.20       Central  \n",
       "192 192   M      67.00       Others                 61.00       Central  \n",
       "193 193   M      65.20       Central                61.40       Central  \n",
       "194 194   F      60.00       Central                63.00       Central  \n",
       "195 195   M      52.00       Others                 55.00       Others   \n",
       "196 196   M      66.00       Central                76.00       Central  \n",
       "197 197   M      72.00       Others                 63.00       Others   \n",
       "198 198   F      83.96       Others                 53.00       Others   \n",
       "199 199   F      67.00       Central                70.00       Central  \n",
       "200 200   M      69.00       Others                 65.00       Others   \n",
       "201 201   M      69.00       Others                 60.00       Others   \n",
       "202 202   M      54.20       Central                63.00       Others   \n",
       "203 203   M      70.00       Central                63.00       Central  \n",
       "204 204   M      55.68       Others                 61.33       Others   \n",
       "205 205   F      74.00       Others                 73.00       Others   \n",
       "206 206   M      61.00       Others                 62.00       Others   \n",
       "207 207   M      41.00       Central                42.00       Central  \n",
       "208 208   M      83.33       Central                78.00       Others   \n",
       "209 209   F      43.00       Central                60.00       Others   \n",
       "210 210   M      62.00       Central                72.00       Central  \n",
       "211 211   M      80.60       Others                 82.00       Others   \n",
       "212 212   M      58.00       Others                 60.00       Others   \n",
       "213 213   M      67.00       Others                 67.00       Others   \n",
       "214 214   F      74.00       Others                 66.00       Others   \n",
       "215 215   M      62.00       Central                58.00       Others   \n",
       "    hsc_specialization degree_percent degree_type work_experience\n",
       "1   Commerce           58.00          Sci&Tech    No             \n",
       "2   Science            77.48          Sci&Tech    Yes            \n",
       "3   Arts               64.00          Comm&Mgmt   No             \n",
       "4   Science            52.00          Sci&Tech    No             \n",
       "5   Commerce           73.30          Comm&Mgmt   No             \n",
       "6   Science            67.25          Sci&Tech    Yes            \n",
       "7   Commerce           79.00          Comm&Mgmt   No             \n",
       "8   Science            66.00          Sci&Tech    Yes            \n",
       "9   Commerce           72.00          Comm&Mgmt   No             \n",
       "10  Commerce           61.00          Comm&Mgmt   No             \n",
       "11  Commerce           60.00          Comm&Mgmt   Yes            \n",
       "12  Commerce           78.30          Comm&Mgmt   Yes            \n",
       "13  Science            65.00          Comm&Mgmt   No             \n",
       "14  Commerce           59.00          Comm&Mgmt   No             \n",
       "15  Commerce           50.00          Comm&Mgmt   No             \n",
       "16  Commerce           69.00          Comm&Mgmt   Yes            \n",
       "17  Commerce           65.60          Comm&Mgmt   Yes            \n",
       "18  Commerce           64.00          Comm&Mgmt   No             \n",
       "19  Commerce           64.00          Comm&Mgmt   No             \n",
       "20  Arts               70.00          Comm&Mgmt   Yes            \n",
       "21  Commerce           66.00          Comm&Mgmt   No             \n",
       "22  Commerce           85.00          Comm&Mgmt   No             \n",
       "23  Science            72.23          Sci&Tech    No             \n",
       "24  Science            64.74          Sci&Tech    Yes            \n",
       "25  Science            78.86          Sci&Tech    No             \n",
       "26  Commerce           50.20          Comm&Mgmt   Yes            \n",
       "27  Commerce           66.00          Comm&Mgmt   Yes            \n",
       "28  Commerce           66.00          Comm&Mgmt   No             \n",
       "29  Commerce           67.50          Comm&Mgmt   Yes            \n",
       "30  Commerce           58.00          Comm&Mgmt   No             \n",
       "... ...                ...            ...         ...            \n",
       "186 Science            78.00          Others      No             \n",
       "187 Commerce           61.00          Comm&Mgmt   No             \n",
       "188 Science            67.00          Sci&Tech    Yes            \n",
       "189 Commerce           54.38          Comm&Mgmt   No             \n",
       "190 Commerce           69.20          Comm&Mgmt   No             \n",
       "191 Commerce           61.00          Comm&Mgmt   No             \n",
       "192 Science            72.00          Comm&Mgmt   No             \n",
       "193 Commerce           64.80          Comm&Mgmt   Yes            \n",
       "194 Arts               56.00          Others      Yes            \n",
       "195 Commerce           56.30          Comm&Mgmt   No             \n",
       "196 Commerce           72.00          Comm&Mgmt   Yes            \n",
       "197 Science            77.50          Sci&Tech    Yes            \n",
       "198 Science            91.00          Sci&Tech    No             \n",
       "199 Commerce           65.00          Others      No             \n",
       "200 Commerce           57.00          Comm&Mgmt   No             \n",
       "201 Commerce           65.00          Comm&Mgmt   No             \n",
       "202 Science            58.00          Comm&Mgmt   No             \n",
       "203 Science            66.00          Sci&Tech    No             \n",
       "204 Commerce           56.87          Comm&Mgmt   No             \n",
       "205 Commerce           73.00          Comm&Mgmt   Yes            \n",
       "206 Commerce           65.00          Comm&Mgmt   No             \n",
       "207 Science            60.00          Comm&Mgmt   No             \n",
       "208 Commerce           61.00          Comm&Mgmt   Yes            \n",
       "209 Science            65.00          Comm&Mgmt   No             \n",
       "210 Commerce           65.00          Comm&Mgmt   No             \n",
       "211 Commerce           77.60          Comm&Mgmt   No             \n",
       "212 Science            72.00          Sci&Tech    No             \n",
       "213 Commerce           73.00          Comm&Mgmt   Yes            \n",
       "214 Commerce           58.00          Comm&Mgmt   No             \n",
       "215 Science            53.00          Comm&Mgmt   No             \n",
       "    employment_test_percent specialisation mba_percent status     salary\n",
       "1   55.00                   Mkt&HR         58.80       Placed     270000\n",
       "2   86.50                   Mkt&Fin        66.28       Placed     200000\n",
       "3   75.00                   Mkt&Fin        57.80       Placed     250000\n",
       "4   66.00                   Mkt&HR         59.43       Not Placed     NA\n",
       "5   96.80                   Mkt&Fin        55.50       Placed     425000\n",
       "6   55.00                   Mkt&Fin        51.58       Not Placed     NA\n",
       "7   74.28                   Mkt&Fin        53.29       Not Placed     NA\n",
       "8   67.00                   Mkt&Fin        62.14       Placed     252000\n",
       "9   91.34                   Mkt&Fin        61.29       Placed     231000\n",
       "10  54.00                   Mkt&Fin        52.21       Not Placed     NA\n",
       "11  62.00                   Mkt&HR         60.85       Placed     260000\n",
       "12  60.00                   Mkt&Fin        63.70       Placed     250000\n",
       "13  62.00                   Mkt&HR         65.04       Not Placed     NA\n",
       "14  68.00                   Mkt&Fin        68.63       Placed     218000\n",
       "15  76.00                   Mkt&HR         54.96       Not Placed     NA\n",
       "16  72.00                   Mkt&Fin        64.66       Placed     200000\n",
       "17  60.00                   Mkt&Fin        62.54       Placed     300000\n",
       "18  60.00                   Mkt&Fin        67.28       Not Placed     NA\n",
       "19  68.00                   Mkt&HR         64.08       Not Placed     NA\n",
       "20  50.48                   Mkt&Fin        77.89       Placed     236000\n",
       "21  50.00                   Mkt&HR         56.70       Placed     265000\n",
       "22  95.00                   Mkt&Fin        69.06       Placed     393000\n",
       "23  55.53                   Mkt&HR         68.81       Placed     360000\n",
       "24  92.00                   Mkt&Fin        63.62       Placed     300000\n",
       "25  97.40                   Mkt&Fin        74.01       Placed     360000\n",
       "26  76.00                   Mkt&Fin        65.33       Not Placed     NA\n",
       "27  94.00                   Mkt&Fin        57.55       Placed     240000\n",
       "28  68.00                   Mkt&HR         57.69       Placed     265000\n",
       "29  73.35                   Mkt&Fin        64.15       Placed     350000\n",
       "30  77.00                   Mkt&Fin        51.29       Not Placed     NA\n",
       "... ...                     ...            ...         ...        ...   \n",
       "186 82.00                   Mkt&HR         71.43       Placed     252000\n",
       "187 55.00                   Mkt&Fin        62.93       Not Placed     NA\n",
       "188 95.00                   Mkt&Fin        64.86       Placed     280000\n",
       "189 57.00                   Mkt&Fin        56.13       Not Placed     NA\n",
       "190 95.65                   Mkt&Fin        66.94       Not Placed     NA\n",
       "191 50.00                   Mkt&Fin        62.50       Not Placed     NA\n",
       "192 72.00                   Mkt&Fin        61.01       Placed     264000\n",
       "193 93.40                   Mkt&Fin        57.34       Placed     270000\n",
       "194 80.00                   Mkt&HR         56.63       Placed     300000\n",
       "195 59.00                   Mkt&Fin        64.74       Not Placed     NA\n",
       "196 84.00                   Mkt&HR         58.95       Placed     275000\n",
       "197 78.00                   Mkt&Fin        54.48       Placed     250000\n",
       "198 59.32                   Mkt&HR         69.71       Placed     260000\n",
       "199 88.00                   Mkt&HR         71.96       Not Placed     NA\n",
       "200 73.00                   Mkt&HR         55.80       Placed     265000\n",
       "201 87.55                   Mkt&Fin        52.81       Placed     300000\n",
       "202 79.00                   Mkt&HR         58.44       Not Placed     NA\n",
       "203 61.28                   Mkt&HR         60.11       Placed     240000\n",
       "204 66.00                   Mkt&HR         58.30       Placed     260000\n",
       "205 80.00                   Mkt&Fin        67.69       Placed     210000\n",
       "206 62.00                   Mkt&Fin        56.81       Placed     250000\n",
       "207 97.00                   Mkt&Fin        53.39       Not Placed     NA\n",
       "208 88.56                   Mkt&Fin        71.55       Placed     300000\n",
       "209 92.66                   Mkt&HR         62.92       Not Placed     NA\n",
       "210 67.00                   Mkt&Fin        56.49       Placed     216000\n",
       "211 91.00                   Mkt&Fin        74.49       Placed     400000\n",
       "212 74.00                   Mkt&Fin        53.62       Placed     275000\n",
       "213 59.00                   Mkt&Fin        69.72       Placed     295000\n",
       "214 70.00                   Mkt&HR         60.23       Placed     204000\n",
       "215 89.00                   Mkt&HR         60.22       Not Placed     NA"
      ]
     },
     "metadata": {},
     "output_type": "display_data"
    }
   ],
   "source": [
    "dataset1"
   ]
  },
  {
   "cell_type": "markdown",
   "metadata": {},
   "source": [
    "### 2. DATA CLEANING"
   ]
  },
  {
   "cell_type": "code",
   "execution_count": 4,
   "metadata": {},
   "outputs": [],
   "source": [
    "# FINDING THE MISSING VALUES"
   ]
  },
  {
   "cell_type": "code",
   "execution_count": 5,
   "metadata": {},
   "outputs": [
    {
     "data": {
      "text/html": [
       "<style>\n",
       ".dl-inline {width: auto; margin:0; padding: 0}\n",
       ".dl-inline>dt, .dl-inline>dd {float: none; width: auto; display: inline-block}\n",
       ".dl-inline>dt::after {content: \":\\0020\"; padding-right: .5ex}\n",
       ".dl-inline>dt:not(:first-of-type) {padding-left: .5ex}\n",
       "</style><dl class=dl-inline><dt>Sl_no</dt><dd>0</dd><dt>gender</dt><dd>0</dd><dt>ssc_percent</dt><dd>0</dd><dt>ssc_board_of_education</dt><dd>0</dd><dt>hsc_percent</dt><dd>0</dd><dt>hsc_board</dt><dd>0</dd><dt>hsc_specialization</dt><dd>0</dd><dt>degree_percent</dt><dd>0</dd><dt>degree_type</dt><dd>0</dd><dt>work_experience</dt><dd>0</dd><dt>employment_test_percent</dt><dd>0</dd><dt>specialisation</dt><dd>0</dd><dt>mba_percent</dt><dd>0</dd><dt>status</dt><dd>0</dd><dt>salary</dt><dd>67</dd></dl>\n"
      ],
      "text/latex": [
       "\\begin{description*}\n",
       "\\item[Sl\\textbackslash{}\\_no] 0\n",
       "\\item[gender] 0\n",
       "\\item[ssc\\textbackslash{}\\_percent] 0\n",
       "\\item[ssc\\textbackslash{}\\_board\\textbackslash{}\\_of\\textbackslash{}\\_education] 0\n",
       "\\item[hsc\\textbackslash{}\\_percent] 0\n",
       "\\item[hsc\\textbackslash{}\\_board] 0\n",
       "\\item[hsc\\textbackslash{}\\_specialization] 0\n",
       "\\item[degree\\textbackslash{}\\_percent] 0\n",
       "\\item[degree\\textbackslash{}\\_type] 0\n",
       "\\item[work\\textbackslash{}\\_experience] 0\n",
       "\\item[employment\\textbackslash{}\\_test\\textbackslash{}\\_percent] 0\n",
       "\\item[specialisation] 0\n",
       "\\item[mba\\textbackslash{}\\_percent] 0\n",
       "\\item[status] 0\n",
       "\\item[salary] 67\n",
       "\\end{description*}\n"
      ],
      "text/markdown": [
       "Sl_no\n",
       ":   0gender\n",
       ":   0ssc_percent\n",
       ":   0ssc_board_of_education\n",
       ":   0hsc_percent\n",
       ":   0hsc_board\n",
       ":   0hsc_specialization\n",
       ":   0degree_percent\n",
       ":   0degree_type\n",
       ":   0work_experience\n",
       ":   0employment_test_percent\n",
       ":   0specialisation\n",
       ":   0mba_percent\n",
       ":   0status\n",
       ":   0salary\n",
       ":   67\n",
       "\n"
      ],
      "text/plain": [
       "                  Sl_no                  gender             ssc_percent \n",
       "                      0                       0                       0 \n",
       " ssc_board_of_education             hsc_percent               hsc_board \n",
       "                      0                       0                       0 \n",
       "     hsc_specialization          degree_percent             degree_type \n",
       "                      0                       0                       0 \n",
       "        work_experience employment_test_percent          specialisation \n",
       "                      0                       0                       0 \n",
       "            mba_percent                  status                  salary \n",
       "                      0                       0                      67 "
      ]
     },
     "metadata": {},
     "output_type": "display_data"
    }
   ],
   "source": [
    "sapply(dataset1, function(x) sum(is.na(x)))"
   ]
  },
  {
   "cell_type": "code",
   "execution_count": 6,
   "metadata": {},
   "outputs": [],
   "source": [
    "# REPLACING THE \"NA\" values "
   ]
  },
  {
   "cell_type": "code",
   "execution_count": 7,
   "metadata": {},
   "outputs": [
    {
     "data": {
      "text/html": [
       "<table class=\"dataframe\">\n",
       "<caption>A data.frame: 215 × 15</caption>\n",
       "<thead>\n",
       "\t<tr><th scope=col>Sl_no</th><th scope=col>gender</th><th scope=col>ssc_percent</th><th scope=col>ssc_board_of_education</th><th scope=col>hsc_percent</th><th scope=col>hsc_board</th><th scope=col>hsc_specialization</th><th scope=col>degree_percent</th><th scope=col>degree_type</th><th scope=col>work_experience</th><th scope=col>employment_test_percent</th><th scope=col>specialisation</th><th scope=col>mba_percent</th><th scope=col>status</th><th scope=col>salary</th></tr>\n",
       "\t<tr><th scope=col>&lt;int&gt;</th><th scope=col>&lt;chr&gt;</th><th scope=col>&lt;dbl&gt;</th><th scope=col>&lt;chr&gt;</th><th scope=col>&lt;dbl&gt;</th><th scope=col>&lt;chr&gt;</th><th scope=col>&lt;chr&gt;</th><th scope=col>&lt;dbl&gt;</th><th scope=col>&lt;chr&gt;</th><th scope=col>&lt;chr&gt;</th><th scope=col>&lt;dbl&gt;</th><th scope=col>&lt;chr&gt;</th><th scope=col>&lt;dbl&gt;</th><th scope=col>&lt;chr&gt;</th><th scope=col>&lt;dbl&gt;</th></tr>\n",
       "</thead>\n",
       "<tbody>\n",
       "\t<tr><td> 1</td><td>M</td><td>67.00</td><td>Others </td><td>91.00</td><td>Others </td><td>Commerce</td><td>58.00</td><td>Sci&amp;Tech </td><td>No </td><td>55.00</td><td>Mkt&amp;HR </td><td>58.80</td><td><span style=white-space:pre-wrap>Placed    </span></td><td>270000</td></tr>\n",
       "\t<tr><td> 2</td><td>M</td><td>79.33</td><td>Central</td><td>78.33</td><td>Others </td><td>Science </td><td>77.48</td><td>Sci&amp;Tech </td><td>Yes</td><td>86.50</td><td>Mkt&amp;Fin</td><td>66.28</td><td><span style=white-space:pre-wrap>Placed    </span></td><td>200000</td></tr>\n",
       "\t<tr><td> 3</td><td>M</td><td>65.00</td><td>Central</td><td>68.00</td><td>Central</td><td><span style=white-space:pre-wrap>Arts    </span></td><td>64.00</td><td>Comm&amp;Mgmt</td><td>No </td><td>75.00</td><td>Mkt&amp;Fin</td><td>57.80</td><td><span style=white-space:pre-wrap>Placed    </span></td><td>250000</td></tr>\n",
       "\t<tr><td> 4</td><td>M</td><td>56.00</td><td>Central</td><td>52.00</td><td>Central</td><td>Science </td><td>52.00</td><td>Sci&amp;Tech </td><td>No </td><td>66.00</td><td>Mkt&amp;HR </td><td>59.43</td><td>Not Placed</td><td><span style=white-space:pre-wrap>     0</span></td></tr>\n",
       "\t<tr><td> 5</td><td>M</td><td>85.80</td><td>Central</td><td>73.60</td><td>Central</td><td>Commerce</td><td>73.30</td><td>Comm&amp;Mgmt</td><td>No </td><td>96.80</td><td>Mkt&amp;Fin</td><td>55.50</td><td><span style=white-space:pre-wrap>Placed    </span></td><td>425000</td></tr>\n",
       "\t<tr><td> 6</td><td>M</td><td>55.00</td><td>Others </td><td>49.80</td><td>Others </td><td>Science </td><td>67.25</td><td>Sci&amp;Tech </td><td>Yes</td><td>55.00</td><td>Mkt&amp;Fin</td><td>51.58</td><td>Not Placed</td><td><span style=white-space:pre-wrap>     0</span></td></tr>\n",
       "\t<tr><td> 7</td><td>F</td><td>46.00</td><td>Others </td><td>49.20</td><td>Others </td><td>Commerce</td><td>79.00</td><td>Comm&amp;Mgmt</td><td>No </td><td>74.28</td><td>Mkt&amp;Fin</td><td>53.29</td><td>Not Placed</td><td><span style=white-space:pre-wrap>     0</span></td></tr>\n",
       "\t<tr><td> 8</td><td>M</td><td>82.00</td><td>Central</td><td>64.00</td><td>Central</td><td>Science </td><td>66.00</td><td>Sci&amp;Tech </td><td>Yes</td><td>67.00</td><td>Mkt&amp;Fin</td><td>62.14</td><td><span style=white-space:pre-wrap>Placed    </span></td><td>252000</td></tr>\n",
       "\t<tr><td> 9</td><td>M</td><td>73.00</td><td>Central</td><td>79.00</td><td>Central</td><td>Commerce</td><td>72.00</td><td>Comm&amp;Mgmt</td><td>No </td><td>91.34</td><td>Mkt&amp;Fin</td><td>61.29</td><td><span style=white-space:pre-wrap>Placed    </span></td><td>231000</td></tr>\n",
       "\t<tr><td>10</td><td>M</td><td>58.00</td><td>Central</td><td>70.00</td><td>Central</td><td>Commerce</td><td>61.00</td><td>Comm&amp;Mgmt</td><td>No </td><td>54.00</td><td>Mkt&amp;Fin</td><td>52.21</td><td>Not Placed</td><td><span style=white-space:pre-wrap>     0</span></td></tr>\n",
       "\t<tr><td>11</td><td>M</td><td>58.00</td><td>Central</td><td>61.00</td><td>Central</td><td>Commerce</td><td>60.00</td><td>Comm&amp;Mgmt</td><td>Yes</td><td>62.00</td><td>Mkt&amp;HR </td><td>60.85</td><td><span style=white-space:pre-wrap>Placed    </span></td><td>260000</td></tr>\n",
       "\t<tr><td>12</td><td>M</td><td>69.60</td><td>Central</td><td>68.40</td><td>Central</td><td>Commerce</td><td>78.30</td><td>Comm&amp;Mgmt</td><td>Yes</td><td>60.00</td><td>Mkt&amp;Fin</td><td>63.70</td><td><span style=white-space:pre-wrap>Placed    </span></td><td>250000</td></tr>\n",
       "\t<tr><td>13</td><td>F</td><td>47.00</td><td>Central</td><td>55.00</td><td>Others </td><td>Science </td><td>65.00</td><td>Comm&amp;Mgmt</td><td>No </td><td>62.00</td><td>Mkt&amp;HR </td><td>65.04</td><td>Not Placed</td><td><span style=white-space:pre-wrap>     0</span></td></tr>\n",
       "\t<tr><td>14</td><td>F</td><td>77.00</td><td>Central</td><td>87.00</td><td>Central</td><td>Commerce</td><td>59.00</td><td>Comm&amp;Mgmt</td><td>No </td><td>68.00</td><td>Mkt&amp;Fin</td><td>68.63</td><td><span style=white-space:pre-wrap>Placed    </span></td><td>218000</td></tr>\n",
       "\t<tr><td>15</td><td>M</td><td>62.00</td><td>Central</td><td>47.00</td><td>Central</td><td>Commerce</td><td>50.00</td><td>Comm&amp;Mgmt</td><td>No </td><td>76.00</td><td>Mkt&amp;HR </td><td>54.96</td><td>Not Placed</td><td><span style=white-space:pre-wrap>     0</span></td></tr>\n",
       "\t<tr><td>16</td><td>F</td><td>65.00</td><td>Central</td><td>75.00</td><td>Central</td><td>Commerce</td><td>69.00</td><td>Comm&amp;Mgmt</td><td>Yes</td><td>72.00</td><td>Mkt&amp;Fin</td><td>64.66</td><td><span style=white-space:pre-wrap>Placed    </span></td><td>200000</td></tr>\n",
       "\t<tr><td>17</td><td>M</td><td>63.00</td><td>Central</td><td>66.20</td><td>Central</td><td>Commerce</td><td>65.60</td><td>Comm&amp;Mgmt</td><td>Yes</td><td>60.00</td><td>Mkt&amp;Fin</td><td>62.54</td><td><span style=white-space:pre-wrap>Placed    </span></td><td>300000</td></tr>\n",
       "\t<tr><td>18</td><td>F</td><td>55.00</td><td>Central</td><td>67.00</td><td>Central</td><td>Commerce</td><td>64.00</td><td>Comm&amp;Mgmt</td><td>No </td><td>60.00</td><td>Mkt&amp;Fin</td><td>67.28</td><td>Not Placed</td><td><span style=white-space:pre-wrap>     0</span></td></tr>\n",
       "\t<tr><td>19</td><td>F</td><td>63.00</td><td>Central</td><td>66.00</td><td>Central</td><td>Commerce</td><td>64.00</td><td>Comm&amp;Mgmt</td><td>No </td><td>68.00</td><td>Mkt&amp;HR </td><td>64.08</td><td>Not Placed</td><td><span style=white-space:pre-wrap>     0</span></td></tr>\n",
       "\t<tr><td>20</td><td>M</td><td>60.00</td><td>Others </td><td>67.00</td><td>Others </td><td><span style=white-space:pre-wrap>Arts    </span></td><td>70.00</td><td>Comm&amp;Mgmt</td><td>Yes</td><td>50.48</td><td>Mkt&amp;Fin</td><td>77.89</td><td><span style=white-space:pre-wrap>Placed    </span></td><td>236000</td></tr>\n",
       "\t<tr><td>21</td><td>M</td><td>62.00</td><td>Others </td><td>65.00</td><td>Others </td><td>Commerce</td><td>66.00</td><td>Comm&amp;Mgmt</td><td>No </td><td>50.00</td><td>Mkt&amp;HR </td><td>56.70</td><td><span style=white-space:pre-wrap>Placed    </span></td><td>265000</td></tr>\n",
       "\t<tr><td>22</td><td>F</td><td>79.00</td><td>Others </td><td>76.00</td><td>Others </td><td>Commerce</td><td>85.00</td><td>Comm&amp;Mgmt</td><td>No </td><td>95.00</td><td>Mkt&amp;Fin</td><td>69.06</td><td><span style=white-space:pre-wrap>Placed    </span></td><td>393000</td></tr>\n",
       "\t<tr><td>23</td><td>F</td><td>69.80</td><td>Others </td><td>60.80</td><td>Others </td><td>Science </td><td>72.23</td><td>Sci&amp;Tech </td><td>No </td><td>55.53</td><td>Mkt&amp;HR </td><td>68.81</td><td><span style=white-space:pre-wrap>Placed    </span></td><td>360000</td></tr>\n",
       "\t<tr><td>24</td><td>F</td><td>77.40</td><td>Others </td><td>60.00</td><td>Others </td><td>Science </td><td>64.74</td><td>Sci&amp;Tech </td><td>Yes</td><td>92.00</td><td>Mkt&amp;Fin</td><td>63.62</td><td><span style=white-space:pre-wrap>Placed    </span></td><td>300000</td></tr>\n",
       "\t<tr><td>25</td><td>M</td><td>76.50</td><td>Others </td><td>97.70</td><td>Others </td><td>Science </td><td>78.86</td><td>Sci&amp;Tech </td><td>No </td><td>97.40</td><td>Mkt&amp;Fin</td><td>74.01</td><td><span style=white-space:pre-wrap>Placed    </span></td><td>360000</td></tr>\n",
       "\t<tr><td>26</td><td>F</td><td>52.58</td><td>Others </td><td>54.60</td><td>Central</td><td>Commerce</td><td>50.20</td><td>Comm&amp;Mgmt</td><td>Yes</td><td>76.00</td><td>Mkt&amp;Fin</td><td>65.33</td><td>Not Placed</td><td><span style=white-space:pre-wrap>     0</span></td></tr>\n",
       "\t<tr><td>27</td><td>M</td><td>71.00</td><td>Others </td><td>79.00</td><td>Others </td><td>Commerce</td><td>66.00</td><td>Comm&amp;Mgmt</td><td>Yes</td><td>94.00</td><td>Mkt&amp;Fin</td><td>57.55</td><td><span style=white-space:pre-wrap>Placed    </span></td><td>240000</td></tr>\n",
       "\t<tr><td>28</td><td>M</td><td>63.00</td><td>Others </td><td>67.00</td><td>Others </td><td>Commerce</td><td>66.00</td><td>Comm&amp;Mgmt</td><td>No </td><td>68.00</td><td>Mkt&amp;HR </td><td>57.69</td><td><span style=white-space:pre-wrap>Placed    </span></td><td>265000</td></tr>\n",
       "\t<tr><td>29</td><td>M</td><td>76.76</td><td>Others </td><td>76.50</td><td>Others </td><td>Commerce</td><td>67.50</td><td>Comm&amp;Mgmt</td><td>Yes</td><td>73.35</td><td>Mkt&amp;Fin</td><td>64.15</td><td><span style=white-space:pre-wrap>Placed    </span></td><td>350000</td></tr>\n",
       "\t<tr><td>30</td><td>M</td><td>62.00</td><td>Central</td><td>67.00</td><td>Central</td><td>Commerce</td><td>58.00</td><td>Comm&amp;Mgmt</td><td>No </td><td>77.00</td><td>Mkt&amp;Fin</td><td>51.29</td><td>Not Placed</td><td><span style=white-space:pre-wrap>     0</span></td></tr>\n",
       "\t<tr><td>...</td><td>...</td><td>...</td><td>...</td><td>...</td><td>...</td><td>...</td><td>...</td><td>...</td><td>...</td><td>...</td><td>...</td><td>...</td><td>...</td><td>...</td></tr>\n",
       "\t<tr><td>186</td><td>F</td><td>88.00</td><td>Central</td><td>72.00</td><td>Central</td><td>Science </td><td>78.00</td><td><span style=white-space:pre-wrap>Others   </span></td><td>No </td><td>82.00</td><td>Mkt&amp;HR </td><td>71.43</td><td><span style=white-space:pre-wrap>Placed    </span></td><td>252000</td></tr>\n",
       "\t<tr><td>187</td><td>F</td><td>52.00</td><td>Central</td><td>64.00</td><td>Central</td><td>Commerce</td><td>61.00</td><td>Comm&amp;Mgmt</td><td>No </td><td>55.00</td><td>Mkt&amp;Fin</td><td>62.93</td><td>Not Placed</td><td><span style=white-space:pre-wrap>     0</span></td></tr>\n",
       "\t<tr><td>188</td><td>M</td><td>78.50</td><td>Central</td><td>65.50</td><td>Central</td><td>Science </td><td>67.00</td><td>Sci&amp;Tech </td><td>Yes</td><td>95.00</td><td>Mkt&amp;Fin</td><td>64.86</td><td><span style=white-space:pre-wrap>Placed    </span></td><td>280000</td></tr>\n",
       "\t<tr><td>189</td><td>M</td><td>61.80</td><td>Others </td><td>47.00</td><td>Others </td><td>Commerce</td><td>54.38</td><td>Comm&amp;Mgmt</td><td>No </td><td>57.00</td><td>Mkt&amp;Fin</td><td>56.13</td><td>Not Placed</td><td><span style=white-space:pre-wrap>     0</span></td></tr>\n",
       "\t<tr><td>190</td><td>F</td><td>54.00</td><td>Central</td><td>77.60</td><td>Others </td><td>Commerce</td><td>69.20</td><td>Comm&amp;Mgmt</td><td>No </td><td>95.65</td><td>Mkt&amp;Fin</td><td>66.94</td><td>Not Placed</td><td><span style=white-space:pre-wrap>     0</span></td></tr>\n",
       "\t<tr><td>191</td><td>F</td><td>64.00</td><td>Others </td><td>70.20</td><td>Central</td><td>Commerce</td><td>61.00</td><td>Comm&amp;Mgmt</td><td>No </td><td>50.00</td><td>Mkt&amp;Fin</td><td>62.50</td><td>Not Placed</td><td><span style=white-space:pre-wrap>     0</span></td></tr>\n",
       "\t<tr><td>192</td><td>M</td><td>67.00</td><td>Others </td><td>61.00</td><td>Central</td><td>Science </td><td>72.00</td><td>Comm&amp;Mgmt</td><td>No </td><td>72.00</td><td>Mkt&amp;Fin</td><td>61.01</td><td><span style=white-space:pre-wrap>Placed    </span></td><td>264000</td></tr>\n",
       "\t<tr><td>193</td><td>M</td><td>65.20</td><td>Central</td><td>61.40</td><td>Central</td><td>Commerce</td><td>64.80</td><td>Comm&amp;Mgmt</td><td>Yes</td><td>93.40</td><td>Mkt&amp;Fin</td><td>57.34</td><td><span style=white-space:pre-wrap>Placed    </span></td><td>270000</td></tr>\n",
       "\t<tr><td>194</td><td>F</td><td>60.00</td><td>Central</td><td>63.00</td><td>Central</td><td><span style=white-space:pre-wrap>Arts    </span></td><td>56.00</td><td><span style=white-space:pre-wrap>Others   </span></td><td>Yes</td><td>80.00</td><td>Mkt&amp;HR </td><td>56.63</td><td><span style=white-space:pre-wrap>Placed    </span></td><td>300000</td></tr>\n",
       "\t<tr><td>195</td><td>M</td><td>52.00</td><td>Others </td><td>55.00</td><td>Others </td><td>Commerce</td><td>56.30</td><td>Comm&amp;Mgmt</td><td>No </td><td>59.00</td><td>Mkt&amp;Fin</td><td>64.74</td><td>Not Placed</td><td><span style=white-space:pre-wrap>     0</span></td></tr>\n",
       "\t<tr><td>196</td><td>M</td><td>66.00</td><td>Central</td><td>76.00</td><td>Central</td><td>Commerce</td><td>72.00</td><td>Comm&amp;Mgmt</td><td>Yes</td><td>84.00</td><td>Mkt&amp;HR </td><td>58.95</td><td><span style=white-space:pre-wrap>Placed    </span></td><td>275000</td></tr>\n",
       "\t<tr><td>197</td><td>M</td><td>72.00</td><td>Others </td><td>63.00</td><td>Others </td><td>Science </td><td>77.50</td><td>Sci&amp;Tech </td><td>Yes</td><td>78.00</td><td>Mkt&amp;Fin</td><td>54.48</td><td><span style=white-space:pre-wrap>Placed    </span></td><td>250000</td></tr>\n",
       "\t<tr><td>198</td><td>F</td><td>83.96</td><td>Others </td><td>53.00</td><td>Others </td><td>Science </td><td>91.00</td><td>Sci&amp;Tech </td><td>No </td><td>59.32</td><td>Mkt&amp;HR </td><td>69.71</td><td><span style=white-space:pre-wrap>Placed    </span></td><td>260000</td></tr>\n",
       "\t<tr><td>199</td><td>F</td><td>67.00</td><td>Central</td><td>70.00</td><td>Central</td><td>Commerce</td><td>65.00</td><td><span style=white-space:pre-wrap>Others   </span></td><td>No </td><td>88.00</td><td>Mkt&amp;HR </td><td>71.96</td><td>Not Placed</td><td><span style=white-space:pre-wrap>     0</span></td></tr>\n",
       "\t<tr><td>200</td><td>M</td><td>69.00</td><td>Others </td><td>65.00</td><td>Others </td><td>Commerce</td><td>57.00</td><td>Comm&amp;Mgmt</td><td>No </td><td>73.00</td><td>Mkt&amp;HR </td><td>55.80</td><td><span style=white-space:pre-wrap>Placed    </span></td><td>265000</td></tr>\n",
       "\t<tr><td>201</td><td>M</td><td>69.00</td><td>Others </td><td>60.00</td><td>Others </td><td>Commerce</td><td>65.00</td><td>Comm&amp;Mgmt</td><td>No </td><td>87.55</td><td>Mkt&amp;Fin</td><td>52.81</td><td><span style=white-space:pre-wrap>Placed    </span></td><td>300000</td></tr>\n",
       "\t<tr><td>202</td><td>M</td><td>54.20</td><td>Central</td><td>63.00</td><td>Others </td><td>Science </td><td>58.00</td><td>Comm&amp;Mgmt</td><td>No </td><td>79.00</td><td>Mkt&amp;HR </td><td>58.44</td><td>Not Placed</td><td><span style=white-space:pre-wrap>     0</span></td></tr>\n",
       "\t<tr><td>203</td><td>M</td><td>70.00</td><td>Central</td><td>63.00</td><td>Central</td><td>Science </td><td>66.00</td><td>Sci&amp;Tech </td><td>No </td><td>61.28</td><td>Mkt&amp;HR </td><td>60.11</td><td><span style=white-space:pre-wrap>Placed    </span></td><td>240000</td></tr>\n",
       "\t<tr><td>204</td><td>M</td><td>55.68</td><td>Others </td><td>61.33</td><td>Others </td><td>Commerce</td><td>56.87</td><td>Comm&amp;Mgmt</td><td>No </td><td>66.00</td><td>Mkt&amp;HR </td><td>58.30</td><td><span style=white-space:pre-wrap>Placed    </span></td><td>260000</td></tr>\n",
       "\t<tr><td>205</td><td>F</td><td>74.00</td><td>Others </td><td>73.00</td><td>Others </td><td>Commerce</td><td>73.00</td><td>Comm&amp;Mgmt</td><td>Yes</td><td>80.00</td><td>Mkt&amp;Fin</td><td>67.69</td><td><span style=white-space:pre-wrap>Placed    </span></td><td>210000</td></tr>\n",
       "\t<tr><td>206</td><td>M</td><td>61.00</td><td>Others </td><td>62.00</td><td>Others </td><td>Commerce</td><td>65.00</td><td>Comm&amp;Mgmt</td><td>No </td><td>62.00</td><td>Mkt&amp;Fin</td><td>56.81</td><td><span style=white-space:pre-wrap>Placed    </span></td><td>250000</td></tr>\n",
       "\t<tr><td>207</td><td>M</td><td>41.00</td><td>Central</td><td>42.00</td><td>Central</td><td>Science </td><td>60.00</td><td>Comm&amp;Mgmt</td><td>No </td><td>97.00</td><td>Mkt&amp;Fin</td><td>53.39</td><td>Not Placed</td><td><span style=white-space:pre-wrap>     0</span></td></tr>\n",
       "\t<tr><td>208</td><td>M</td><td>83.33</td><td>Central</td><td>78.00</td><td>Others </td><td>Commerce</td><td>61.00</td><td>Comm&amp;Mgmt</td><td>Yes</td><td>88.56</td><td>Mkt&amp;Fin</td><td>71.55</td><td><span style=white-space:pre-wrap>Placed    </span></td><td>300000</td></tr>\n",
       "\t<tr><td>209</td><td>F</td><td>43.00</td><td>Central</td><td>60.00</td><td>Others </td><td>Science </td><td>65.00</td><td>Comm&amp;Mgmt</td><td>No </td><td>92.66</td><td>Mkt&amp;HR </td><td>62.92</td><td>Not Placed</td><td><span style=white-space:pre-wrap>     0</span></td></tr>\n",
       "\t<tr><td>210</td><td>M</td><td>62.00</td><td>Central</td><td>72.00</td><td>Central</td><td>Commerce</td><td>65.00</td><td>Comm&amp;Mgmt</td><td>No </td><td>67.00</td><td>Mkt&amp;Fin</td><td>56.49</td><td><span style=white-space:pre-wrap>Placed    </span></td><td>216000</td></tr>\n",
       "\t<tr><td>211</td><td>M</td><td>80.60</td><td>Others </td><td>82.00</td><td>Others </td><td>Commerce</td><td>77.60</td><td>Comm&amp;Mgmt</td><td>No </td><td>91.00</td><td>Mkt&amp;Fin</td><td>74.49</td><td><span style=white-space:pre-wrap>Placed    </span></td><td>400000</td></tr>\n",
       "\t<tr><td>212</td><td>M</td><td>58.00</td><td>Others </td><td>60.00</td><td>Others </td><td>Science </td><td>72.00</td><td>Sci&amp;Tech </td><td>No </td><td>74.00</td><td>Mkt&amp;Fin</td><td>53.62</td><td><span style=white-space:pre-wrap>Placed    </span></td><td>275000</td></tr>\n",
       "\t<tr><td>213</td><td>M</td><td>67.00</td><td>Others </td><td>67.00</td><td>Others </td><td>Commerce</td><td>73.00</td><td>Comm&amp;Mgmt</td><td>Yes</td><td>59.00</td><td>Mkt&amp;Fin</td><td>69.72</td><td><span style=white-space:pre-wrap>Placed    </span></td><td>295000</td></tr>\n",
       "\t<tr><td>214</td><td>F</td><td>74.00</td><td>Others </td><td>66.00</td><td>Others </td><td>Commerce</td><td>58.00</td><td>Comm&amp;Mgmt</td><td>No </td><td>70.00</td><td>Mkt&amp;HR </td><td>60.23</td><td><span style=white-space:pre-wrap>Placed    </span></td><td>204000</td></tr>\n",
       "\t<tr><td>215</td><td>M</td><td>62.00</td><td>Central</td><td>58.00</td><td>Others </td><td>Science </td><td>53.00</td><td>Comm&amp;Mgmt</td><td>No </td><td>89.00</td><td>Mkt&amp;HR </td><td>60.22</td><td>Not Placed</td><td><span style=white-space:pre-wrap>     0</span></td></tr>\n",
       "</tbody>\n",
       "</table>\n"
      ],
      "text/latex": [
       "A data.frame: 215 × 15\n",
       "\\begin{tabular}{lllllllllllllll}\n",
       " Sl\\_no & gender & ssc\\_percent & ssc\\_board\\_of\\_education & hsc\\_percent & hsc\\_board & hsc\\_specialization & degree\\_percent & degree\\_type & work\\_experience & employment\\_test\\_percent & specialisation & mba\\_percent & status & salary\\\\\n",
       " <int> & <chr> & <dbl> & <chr> & <dbl> & <chr> & <chr> & <dbl> & <chr> & <chr> & <dbl> & <chr> & <dbl> & <chr> & <dbl>\\\\\n",
       "\\hline\n",
       "\t  1 & M & 67.00 & Others  & 91.00 & Others  & Commerce & 58.00 & Sci\\&Tech  & No  & 55.00 & Mkt\\&HR  & 58.80 & Placed     & 270000\\\\\n",
       "\t  2 & M & 79.33 & Central & 78.33 & Others  & Science  & 77.48 & Sci\\&Tech  & Yes & 86.50 & Mkt\\&Fin & 66.28 & Placed     & 200000\\\\\n",
       "\t  3 & M & 65.00 & Central & 68.00 & Central & Arts     & 64.00 & Comm\\&Mgmt & No  & 75.00 & Mkt\\&Fin & 57.80 & Placed     & 250000\\\\\n",
       "\t  4 & M & 56.00 & Central & 52.00 & Central & Science  & 52.00 & Sci\\&Tech  & No  & 66.00 & Mkt\\&HR  & 59.43 & Not Placed &      0\\\\\n",
       "\t  5 & M & 85.80 & Central & 73.60 & Central & Commerce & 73.30 & Comm\\&Mgmt & No  & 96.80 & Mkt\\&Fin & 55.50 & Placed     & 425000\\\\\n",
       "\t  6 & M & 55.00 & Others  & 49.80 & Others  & Science  & 67.25 & Sci\\&Tech  & Yes & 55.00 & Mkt\\&Fin & 51.58 & Not Placed &      0\\\\\n",
       "\t  7 & F & 46.00 & Others  & 49.20 & Others  & Commerce & 79.00 & Comm\\&Mgmt & No  & 74.28 & Mkt\\&Fin & 53.29 & Not Placed &      0\\\\\n",
       "\t  8 & M & 82.00 & Central & 64.00 & Central & Science  & 66.00 & Sci\\&Tech  & Yes & 67.00 & Mkt\\&Fin & 62.14 & Placed     & 252000\\\\\n",
       "\t  9 & M & 73.00 & Central & 79.00 & Central & Commerce & 72.00 & Comm\\&Mgmt & No  & 91.34 & Mkt\\&Fin & 61.29 & Placed     & 231000\\\\\n",
       "\t 10 & M & 58.00 & Central & 70.00 & Central & Commerce & 61.00 & Comm\\&Mgmt & No  & 54.00 & Mkt\\&Fin & 52.21 & Not Placed &      0\\\\\n",
       "\t 11 & M & 58.00 & Central & 61.00 & Central & Commerce & 60.00 & Comm\\&Mgmt & Yes & 62.00 & Mkt\\&HR  & 60.85 & Placed     & 260000\\\\\n",
       "\t 12 & M & 69.60 & Central & 68.40 & Central & Commerce & 78.30 & Comm\\&Mgmt & Yes & 60.00 & Mkt\\&Fin & 63.70 & Placed     & 250000\\\\\n",
       "\t 13 & F & 47.00 & Central & 55.00 & Others  & Science  & 65.00 & Comm\\&Mgmt & No  & 62.00 & Mkt\\&HR  & 65.04 & Not Placed &      0\\\\\n",
       "\t 14 & F & 77.00 & Central & 87.00 & Central & Commerce & 59.00 & Comm\\&Mgmt & No  & 68.00 & Mkt\\&Fin & 68.63 & Placed     & 218000\\\\\n",
       "\t 15 & M & 62.00 & Central & 47.00 & Central & Commerce & 50.00 & Comm\\&Mgmt & No  & 76.00 & Mkt\\&HR  & 54.96 & Not Placed &      0\\\\\n",
       "\t 16 & F & 65.00 & Central & 75.00 & Central & Commerce & 69.00 & Comm\\&Mgmt & Yes & 72.00 & Mkt\\&Fin & 64.66 & Placed     & 200000\\\\\n",
       "\t 17 & M & 63.00 & Central & 66.20 & Central & Commerce & 65.60 & Comm\\&Mgmt & Yes & 60.00 & Mkt\\&Fin & 62.54 & Placed     & 300000\\\\\n",
       "\t 18 & F & 55.00 & Central & 67.00 & Central & Commerce & 64.00 & Comm\\&Mgmt & No  & 60.00 & Mkt\\&Fin & 67.28 & Not Placed &      0\\\\\n",
       "\t 19 & F & 63.00 & Central & 66.00 & Central & Commerce & 64.00 & Comm\\&Mgmt & No  & 68.00 & Mkt\\&HR  & 64.08 & Not Placed &      0\\\\\n",
       "\t 20 & M & 60.00 & Others  & 67.00 & Others  & Arts     & 70.00 & Comm\\&Mgmt & Yes & 50.48 & Mkt\\&Fin & 77.89 & Placed     & 236000\\\\\n",
       "\t 21 & M & 62.00 & Others  & 65.00 & Others  & Commerce & 66.00 & Comm\\&Mgmt & No  & 50.00 & Mkt\\&HR  & 56.70 & Placed     & 265000\\\\\n",
       "\t 22 & F & 79.00 & Others  & 76.00 & Others  & Commerce & 85.00 & Comm\\&Mgmt & No  & 95.00 & Mkt\\&Fin & 69.06 & Placed     & 393000\\\\\n",
       "\t 23 & F & 69.80 & Others  & 60.80 & Others  & Science  & 72.23 & Sci\\&Tech  & No  & 55.53 & Mkt\\&HR  & 68.81 & Placed     & 360000\\\\\n",
       "\t 24 & F & 77.40 & Others  & 60.00 & Others  & Science  & 64.74 & Sci\\&Tech  & Yes & 92.00 & Mkt\\&Fin & 63.62 & Placed     & 300000\\\\\n",
       "\t 25 & M & 76.50 & Others  & 97.70 & Others  & Science  & 78.86 & Sci\\&Tech  & No  & 97.40 & Mkt\\&Fin & 74.01 & Placed     & 360000\\\\\n",
       "\t 26 & F & 52.58 & Others  & 54.60 & Central & Commerce & 50.20 & Comm\\&Mgmt & Yes & 76.00 & Mkt\\&Fin & 65.33 & Not Placed &      0\\\\\n",
       "\t 27 & M & 71.00 & Others  & 79.00 & Others  & Commerce & 66.00 & Comm\\&Mgmt & Yes & 94.00 & Mkt\\&Fin & 57.55 & Placed     & 240000\\\\\n",
       "\t 28 & M & 63.00 & Others  & 67.00 & Others  & Commerce & 66.00 & Comm\\&Mgmt & No  & 68.00 & Mkt\\&HR  & 57.69 & Placed     & 265000\\\\\n",
       "\t 29 & M & 76.76 & Others  & 76.50 & Others  & Commerce & 67.50 & Comm\\&Mgmt & Yes & 73.35 & Mkt\\&Fin & 64.15 & Placed     & 350000\\\\\n",
       "\t 30 & M & 62.00 & Central & 67.00 & Central & Commerce & 58.00 & Comm\\&Mgmt & No  & 77.00 & Mkt\\&Fin & 51.29 & Not Placed &      0\\\\\n",
       "\t ... & ... & ... & ... & ... & ... & ... & ... & ... & ... & ... & ... & ... & ... & ...\\\\\n",
       "\t 186 & F & 88.00 & Central & 72.00 & Central & Science  & 78.00 & Others    & No  & 82.00 & Mkt\\&HR  & 71.43 & Placed     & 252000\\\\\n",
       "\t 187 & F & 52.00 & Central & 64.00 & Central & Commerce & 61.00 & Comm\\&Mgmt & No  & 55.00 & Mkt\\&Fin & 62.93 & Not Placed &      0\\\\\n",
       "\t 188 & M & 78.50 & Central & 65.50 & Central & Science  & 67.00 & Sci\\&Tech  & Yes & 95.00 & Mkt\\&Fin & 64.86 & Placed     & 280000\\\\\n",
       "\t 189 & M & 61.80 & Others  & 47.00 & Others  & Commerce & 54.38 & Comm\\&Mgmt & No  & 57.00 & Mkt\\&Fin & 56.13 & Not Placed &      0\\\\\n",
       "\t 190 & F & 54.00 & Central & 77.60 & Others  & Commerce & 69.20 & Comm\\&Mgmt & No  & 95.65 & Mkt\\&Fin & 66.94 & Not Placed &      0\\\\\n",
       "\t 191 & F & 64.00 & Others  & 70.20 & Central & Commerce & 61.00 & Comm\\&Mgmt & No  & 50.00 & Mkt\\&Fin & 62.50 & Not Placed &      0\\\\\n",
       "\t 192 & M & 67.00 & Others  & 61.00 & Central & Science  & 72.00 & Comm\\&Mgmt & No  & 72.00 & Mkt\\&Fin & 61.01 & Placed     & 264000\\\\\n",
       "\t 193 & M & 65.20 & Central & 61.40 & Central & Commerce & 64.80 & Comm\\&Mgmt & Yes & 93.40 & Mkt\\&Fin & 57.34 & Placed     & 270000\\\\\n",
       "\t 194 & F & 60.00 & Central & 63.00 & Central & Arts     & 56.00 & Others    & Yes & 80.00 & Mkt\\&HR  & 56.63 & Placed     & 300000\\\\\n",
       "\t 195 & M & 52.00 & Others  & 55.00 & Others  & Commerce & 56.30 & Comm\\&Mgmt & No  & 59.00 & Mkt\\&Fin & 64.74 & Not Placed &      0\\\\\n",
       "\t 196 & M & 66.00 & Central & 76.00 & Central & Commerce & 72.00 & Comm\\&Mgmt & Yes & 84.00 & Mkt\\&HR  & 58.95 & Placed     & 275000\\\\\n",
       "\t 197 & M & 72.00 & Others  & 63.00 & Others  & Science  & 77.50 & Sci\\&Tech  & Yes & 78.00 & Mkt\\&Fin & 54.48 & Placed     & 250000\\\\\n",
       "\t 198 & F & 83.96 & Others  & 53.00 & Others  & Science  & 91.00 & Sci\\&Tech  & No  & 59.32 & Mkt\\&HR  & 69.71 & Placed     & 260000\\\\\n",
       "\t 199 & F & 67.00 & Central & 70.00 & Central & Commerce & 65.00 & Others    & No  & 88.00 & Mkt\\&HR  & 71.96 & Not Placed &      0\\\\\n",
       "\t 200 & M & 69.00 & Others  & 65.00 & Others  & Commerce & 57.00 & Comm\\&Mgmt & No  & 73.00 & Mkt\\&HR  & 55.80 & Placed     & 265000\\\\\n",
       "\t 201 & M & 69.00 & Others  & 60.00 & Others  & Commerce & 65.00 & Comm\\&Mgmt & No  & 87.55 & Mkt\\&Fin & 52.81 & Placed     & 300000\\\\\n",
       "\t 202 & M & 54.20 & Central & 63.00 & Others  & Science  & 58.00 & Comm\\&Mgmt & No  & 79.00 & Mkt\\&HR  & 58.44 & Not Placed &      0\\\\\n",
       "\t 203 & M & 70.00 & Central & 63.00 & Central & Science  & 66.00 & Sci\\&Tech  & No  & 61.28 & Mkt\\&HR  & 60.11 & Placed     & 240000\\\\\n",
       "\t 204 & M & 55.68 & Others  & 61.33 & Others  & Commerce & 56.87 & Comm\\&Mgmt & No  & 66.00 & Mkt\\&HR  & 58.30 & Placed     & 260000\\\\\n",
       "\t 205 & F & 74.00 & Others  & 73.00 & Others  & Commerce & 73.00 & Comm\\&Mgmt & Yes & 80.00 & Mkt\\&Fin & 67.69 & Placed     & 210000\\\\\n",
       "\t 206 & M & 61.00 & Others  & 62.00 & Others  & Commerce & 65.00 & Comm\\&Mgmt & No  & 62.00 & Mkt\\&Fin & 56.81 & Placed     & 250000\\\\\n",
       "\t 207 & M & 41.00 & Central & 42.00 & Central & Science  & 60.00 & Comm\\&Mgmt & No  & 97.00 & Mkt\\&Fin & 53.39 & Not Placed &      0\\\\\n",
       "\t 208 & M & 83.33 & Central & 78.00 & Others  & Commerce & 61.00 & Comm\\&Mgmt & Yes & 88.56 & Mkt\\&Fin & 71.55 & Placed     & 300000\\\\\n",
       "\t 209 & F & 43.00 & Central & 60.00 & Others  & Science  & 65.00 & Comm\\&Mgmt & No  & 92.66 & Mkt\\&HR  & 62.92 & Not Placed &      0\\\\\n",
       "\t 210 & M & 62.00 & Central & 72.00 & Central & Commerce & 65.00 & Comm\\&Mgmt & No  & 67.00 & Mkt\\&Fin & 56.49 & Placed     & 216000\\\\\n",
       "\t 211 & M & 80.60 & Others  & 82.00 & Others  & Commerce & 77.60 & Comm\\&Mgmt & No  & 91.00 & Mkt\\&Fin & 74.49 & Placed     & 400000\\\\\n",
       "\t 212 & M & 58.00 & Others  & 60.00 & Others  & Science  & 72.00 & Sci\\&Tech  & No  & 74.00 & Mkt\\&Fin & 53.62 & Placed     & 275000\\\\\n",
       "\t 213 & M & 67.00 & Others  & 67.00 & Others  & Commerce & 73.00 & Comm\\&Mgmt & Yes & 59.00 & Mkt\\&Fin & 69.72 & Placed     & 295000\\\\\n",
       "\t 214 & F & 74.00 & Others  & 66.00 & Others  & Commerce & 58.00 & Comm\\&Mgmt & No  & 70.00 & Mkt\\&HR  & 60.23 & Placed     & 204000\\\\\n",
       "\t 215 & M & 62.00 & Central & 58.00 & Others  & Science  & 53.00 & Comm\\&Mgmt & No  & 89.00 & Mkt\\&HR  & 60.22 & Not Placed &      0\\\\\n",
       "\\end{tabular}\n"
      ],
      "text/markdown": [
       "\n",
       "A data.frame: 215 × 15\n",
       "\n",
       "| Sl_no &lt;int&gt; | gender &lt;chr&gt; | ssc_percent &lt;dbl&gt; | ssc_board_of_education &lt;chr&gt; | hsc_percent &lt;dbl&gt; | hsc_board &lt;chr&gt; | hsc_specialization &lt;chr&gt; | degree_percent &lt;dbl&gt; | degree_type &lt;chr&gt; | work_experience &lt;chr&gt; | employment_test_percent &lt;dbl&gt; | specialisation &lt;chr&gt; | mba_percent &lt;dbl&gt; | status &lt;chr&gt; | salary &lt;dbl&gt; |\n",
       "|---|---|---|---|---|---|---|---|---|---|---|---|---|---|---|\n",
       "|  1 | M | 67.00 | Others  | 91.00 | Others  | Commerce | 58.00 | Sci&amp;Tech  | No  | 55.00 | Mkt&amp;HR  | 58.80 | Placed     | 270000 |\n",
       "|  2 | M | 79.33 | Central | 78.33 | Others  | Science  | 77.48 | Sci&amp;Tech  | Yes | 86.50 | Mkt&amp;Fin | 66.28 | Placed     | 200000 |\n",
       "|  3 | M | 65.00 | Central | 68.00 | Central | Arts     | 64.00 | Comm&amp;Mgmt | No  | 75.00 | Mkt&amp;Fin | 57.80 | Placed     | 250000 |\n",
       "|  4 | M | 56.00 | Central | 52.00 | Central | Science  | 52.00 | Sci&amp;Tech  | No  | 66.00 | Mkt&amp;HR  | 59.43 | Not Placed |      0 |\n",
       "|  5 | M | 85.80 | Central | 73.60 | Central | Commerce | 73.30 | Comm&amp;Mgmt | No  | 96.80 | Mkt&amp;Fin | 55.50 | Placed     | 425000 |\n",
       "|  6 | M | 55.00 | Others  | 49.80 | Others  | Science  | 67.25 | Sci&amp;Tech  | Yes | 55.00 | Mkt&amp;Fin | 51.58 | Not Placed |      0 |\n",
       "|  7 | F | 46.00 | Others  | 49.20 | Others  | Commerce | 79.00 | Comm&amp;Mgmt | No  | 74.28 | Mkt&amp;Fin | 53.29 | Not Placed |      0 |\n",
       "|  8 | M | 82.00 | Central | 64.00 | Central | Science  | 66.00 | Sci&amp;Tech  | Yes | 67.00 | Mkt&amp;Fin | 62.14 | Placed     | 252000 |\n",
       "|  9 | M | 73.00 | Central | 79.00 | Central | Commerce | 72.00 | Comm&amp;Mgmt | No  | 91.34 | Mkt&amp;Fin | 61.29 | Placed     | 231000 |\n",
       "| 10 | M | 58.00 | Central | 70.00 | Central | Commerce | 61.00 | Comm&amp;Mgmt | No  | 54.00 | Mkt&amp;Fin | 52.21 | Not Placed |      0 |\n",
       "| 11 | M | 58.00 | Central | 61.00 | Central | Commerce | 60.00 | Comm&amp;Mgmt | Yes | 62.00 | Mkt&amp;HR  | 60.85 | Placed     | 260000 |\n",
       "| 12 | M | 69.60 | Central | 68.40 | Central | Commerce | 78.30 | Comm&amp;Mgmt | Yes | 60.00 | Mkt&amp;Fin | 63.70 | Placed     | 250000 |\n",
       "| 13 | F | 47.00 | Central | 55.00 | Others  | Science  | 65.00 | Comm&amp;Mgmt | No  | 62.00 | Mkt&amp;HR  | 65.04 | Not Placed |      0 |\n",
       "| 14 | F | 77.00 | Central | 87.00 | Central | Commerce | 59.00 | Comm&amp;Mgmt | No  | 68.00 | Mkt&amp;Fin | 68.63 | Placed     | 218000 |\n",
       "| 15 | M | 62.00 | Central | 47.00 | Central | Commerce | 50.00 | Comm&amp;Mgmt | No  | 76.00 | Mkt&amp;HR  | 54.96 | Not Placed |      0 |\n",
       "| 16 | F | 65.00 | Central | 75.00 | Central | Commerce | 69.00 | Comm&amp;Mgmt | Yes | 72.00 | Mkt&amp;Fin | 64.66 | Placed     | 200000 |\n",
       "| 17 | M | 63.00 | Central | 66.20 | Central | Commerce | 65.60 | Comm&amp;Mgmt | Yes | 60.00 | Mkt&amp;Fin | 62.54 | Placed     | 300000 |\n",
       "| 18 | F | 55.00 | Central | 67.00 | Central | Commerce | 64.00 | Comm&amp;Mgmt | No  | 60.00 | Mkt&amp;Fin | 67.28 | Not Placed |      0 |\n",
       "| 19 | F | 63.00 | Central | 66.00 | Central | Commerce | 64.00 | Comm&amp;Mgmt | No  | 68.00 | Mkt&amp;HR  | 64.08 | Not Placed |      0 |\n",
       "| 20 | M | 60.00 | Others  | 67.00 | Others  | Arts     | 70.00 | Comm&amp;Mgmt | Yes | 50.48 | Mkt&amp;Fin | 77.89 | Placed     | 236000 |\n",
       "| 21 | M | 62.00 | Others  | 65.00 | Others  | Commerce | 66.00 | Comm&amp;Mgmt | No  | 50.00 | Mkt&amp;HR  | 56.70 | Placed     | 265000 |\n",
       "| 22 | F | 79.00 | Others  | 76.00 | Others  | Commerce | 85.00 | Comm&amp;Mgmt | No  | 95.00 | Mkt&amp;Fin | 69.06 | Placed     | 393000 |\n",
       "| 23 | F | 69.80 | Others  | 60.80 | Others  | Science  | 72.23 | Sci&amp;Tech  | No  | 55.53 | Mkt&amp;HR  | 68.81 | Placed     | 360000 |\n",
       "| 24 | F | 77.40 | Others  | 60.00 | Others  | Science  | 64.74 | Sci&amp;Tech  | Yes | 92.00 | Mkt&amp;Fin | 63.62 | Placed     | 300000 |\n",
       "| 25 | M | 76.50 | Others  | 97.70 | Others  | Science  | 78.86 | Sci&amp;Tech  | No  | 97.40 | Mkt&amp;Fin | 74.01 | Placed     | 360000 |\n",
       "| 26 | F | 52.58 | Others  | 54.60 | Central | Commerce | 50.20 | Comm&amp;Mgmt | Yes | 76.00 | Mkt&amp;Fin | 65.33 | Not Placed |      0 |\n",
       "| 27 | M | 71.00 | Others  | 79.00 | Others  | Commerce | 66.00 | Comm&amp;Mgmt | Yes | 94.00 | Mkt&amp;Fin | 57.55 | Placed     | 240000 |\n",
       "| 28 | M | 63.00 | Others  | 67.00 | Others  | Commerce | 66.00 | Comm&amp;Mgmt | No  | 68.00 | Mkt&amp;HR  | 57.69 | Placed     | 265000 |\n",
       "| 29 | M | 76.76 | Others  | 76.50 | Others  | Commerce | 67.50 | Comm&amp;Mgmt | Yes | 73.35 | Mkt&amp;Fin | 64.15 | Placed     | 350000 |\n",
       "| 30 | M | 62.00 | Central | 67.00 | Central | Commerce | 58.00 | Comm&amp;Mgmt | No  | 77.00 | Mkt&amp;Fin | 51.29 | Not Placed |      0 |\n",
       "| ... | ... | ... | ... | ... | ... | ... | ... | ... | ... | ... | ... | ... | ... | ... |\n",
       "| 186 | F | 88.00 | Central | 72.00 | Central | Science  | 78.00 | Others    | No  | 82.00 | Mkt&amp;HR  | 71.43 | Placed     | 252000 |\n",
       "| 187 | F | 52.00 | Central | 64.00 | Central | Commerce | 61.00 | Comm&amp;Mgmt | No  | 55.00 | Mkt&amp;Fin | 62.93 | Not Placed |      0 |\n",
       "| 188 | M | 78.50 | Central | 65.50 | Central | Science  | 67.00 | Sci&amp;Tech  | Yes | 95.00 | Mkt&amp;Fin | 64.86 | Placed     | 280000 |\n",
       "| 189 | M | 61.80 | Others  | 47.00 | Others  | Commerce | 54.38 | Comm&amp;Mgmt | No  | 57.00 | Mkt&amp;Fin | 56.13 | Not Placed |      0 |\n",
       "| 190 | F | 54.00 | Central | 77.60 | Others  | Commerce | 69.20 | Comm&amp;Mgmt | No  | 95.65 | Mkt&amp;Fin | 66.94 | Not Placed |      0 |\n",
       "| 191 | F | 64.00 | Others  | 70.20 | Central | Commerce | 61.00 | Comm&amp;Mgmt | No  | 50.00 | Mkt&amp;Fin | 62.50 | Not Placed |      0 |\n",
       "| 192 | M | 67.00 | Others  | 61.00 | Central | Science  | 72.00 | Comm&amp;Mgmt | No  | 72.00 | Mkt&amp;Fin | 61.01 | Placed     | 264000 |\n",
       "| 193 | M | 65.20 | Central | 61.40 | Central | Commerce | 64.80 | Comm&amp;Mgmt | Yes | 93.40 | Mkt&amp;Fin | 57.34 | Placed     | 270000 |\n",
       "| 194 | F | 60.00 | Central | 63.00 | Central | Arts     | 56.00 | Others    | Yes | 80.00 | Mkt&amp;HR  | 56.63 | Placed     | 300000 |\n",
       "| 195 | M | 52.00 | Others  | 55.00 | Others  | Commerce | 56.30 | Comm&amp;Mgmt | No  | 59.00 | Mkt&amp;Fin | 64.74 | Not Placed |      0 |\n",
       "| 196 | M | 66.00 | Central | 76.00 | Central | Commerce | 72.00 | Comm&amp;Mgmt | Yes | 84.00 | Mkt&amp;HR  | 58.95 | Placed     | 275000 |\n",
       "| 197 | M | 72.00 | Others  | 63.00 | Others  | Science  | 77.50 | Sci&amp;Tech  | Yes | 78.00 | Mkt&amp;Fin | 54.48 | Placed     | 250000 |\n",
       "| 198 | F | 83.96 | Others  | 53.00 | Others  | Science  | 91.00 | Sci&amp;Tech  | No  | 59.32 | Mkt&amp;HR  | 69.71 | Placed     | 260000 |\n",
       "| 199 | F | 67.00 | Central | 70.00 | Central | Commerce | 65.00 | Others    | No  | 88.00 | Mkt&amp;HR  | 71.96 | Not Placed |      0 |\n",
       "| 200 | M | 69.00 | Others  | 65.00 | Others  | Commerce | 57.00 | Comm&amp;Mgmt | No  | 73.00 | Mkt&amp;HR  | 55.80 | Placed     | 265000 |\n",
       "| 201 | M | 69.00 | Others  | 60.00 | Others  | Commerce | 65.00 | Comm&amp;Mgmt | No  | 87.55 | Mkt&amp;Fin | 52.81 | Placed     | 300000 |\n",
       "| 202 | M | 54.20 | Central | 63.00 | Others  | Science  | 58.00 | Comm&amp;Mgmt | No  | 79.00 | Mkt&amp;HR  | 58.44 | Not Placed |      0 |\n",
       "| 203 | M | 70.00 | Central | 63.00 | Central | Science  | 66.00 | Sci&amp;Tech  | No  | 61.28 | Mkt&amp;HR  | 60.11 | Placed     | 240000 |\n",
       "| 204 | M | 55.68 | Others  | 61.33 | Others  | Commerce | 56.87 | Comm&amp;Mgmt | No  | 66.00 | Mkt&amp;HR  | 58.30 | Placed     | 260000 |\n",
       "| 205 | F | 74.00 | Others  | 73.00 | Others  | Commerce | 73.00 | Comm&amp;Mgmt | Yes | 80.00 | Mkt&amp;Fin | 67.69 | Placed     | 210000 |\n",
       "| 206 | M | 61.00 | Others  | 62.00 | Others  | Commerce | 65.00 | Comm&amp;Mgmt | No  | 62.00 | Mkt&amp;Fin | 56.81 | Placed     | 250000 |\n",
       "| 207 | M | 41.00 | Central | 42.00 | Central | Science  | 60.00 | Comm&amp;Mgmt | No  | 97.00 | Mkt&amp;Fin | 53.39 | Not Placed |      0 |\n",
       "| 208 | M | 83.33 | Central | 78.00 | Others  | Commerce | 61.00 | Comm&amp;Mgmt | Yes | 88.56 | Mkt&amp;Fin | 71.55 | Placed     | 300000 |\n",
       "| 209 | F | 43.00 | Central | 60.00 | Others  | Science  | 65.00 | Comm&amp;Mgmt | No  | 92.66 | Mkt&amp;HR  | 62.92 | Not Placed |      0 |\n",
       "| 210 | M | 62.00 | Central | 72.00 | Central | Commerce | 65.00 | Comm&amp;Mgmt | No  | 67.00 | Mkt&amp;Fin | 56.49 | Placed     | 216000 |\n",
       "| 211 | M | 80.60 | Others  | 82.00 | Others  | Commerce | 77.60 | Comm&amp;Mgmt | No  | 91.00 | Mkt&amp;Fin | 74.49 | Placed     | 400000 |\n",
       "| 212 | M | 58.00 | Others  | 60.00 | Others  | Science  | 72.00 | Sci&amp;Tech  | No  | 74.00 | Mkt&amp;Fin | 53.62 | Placed     | 275000 |\n",
       "| 213 | M | 67.00 | Others  | 67.00 | Others  | Commerce | 73.00 | Comm&amp;Mgmt | Yes | 59.00 | Mkt&amp;Fin | 69.72 | Placed     | 295000 |\n",
       "| 214 | F | 74.00 | Others  | 66.00 | Others  | Commerce | 58.00 | Comm&amp;Mgmt | No  | 70.00 | Mkt&amp;HR  | 60.23 | Placed     | 204000 |\n",
       "| 215 | M | 62.00 | Central | 58.00 | Others  | Science  | 53.00 | Comm&amp;Mgmt | No  | 89.00 | Mkt&amp;HR  | 60.22 | Not Placed |      0 |\n",
       "\n"
      ],
      "text/plain": [
       "    Sl_no gender ssc_percent ssc_board_of_education hsc_percent hsc_board\n",
       "1    1    M      67.00       Others                 91.00       Others   \n",
       "2    2    M      79.33       Central                78.33       Others   \n",
       "3    3    M      65.00       Central                68.00       Central  \n",
       "4    4    M      56.00       Central                52.00       Central  \n",
       "5    5    M      85.80       Central                73.60       Central  \n",
       "6    6    M      55.00       Others                 49.80       Others   \n",
       "7    7    F      46.00       Others                 49.20       Others   \n",
       "8    8    M      82.00       Central                64.00       Central  \n",
       "9    9    M      73.00       Central                79.00       Central  \n",
       "10  10    M      58.00       Central                70.00       Central  \n",
       "11  11    M      58.00       Central                61.00       Central  \n",
       "12  12    M      69.60       Central                68.40       Central  \n",
       "13  13    F      47.00       Central                55.00       Others   \n",
       "14  14    F      77.00       Central                87.00       Central  \n",
       "15  15    M      62.00       Central                47.00       Central  \n",
       "16  16    F      65.00       Central                75.00       Central  \n",
       "17  17    M      63.00       Central                66.20       Central  \n",
       "18  18    F      55.00       Central                67.00       Central  \n",
       "19  19    F      63.00       Central                66.00       Central  \n",
       "20  20    M      60.00       Others                 67.00       Others   \n",
       "21  21    M      62.00       Others                 65.00       Others   \n",
       "22  22    F      79.00       Others                 76.00       Others   \n",
       "23  23    F      69.80       Others                 60.80       Others   \n",
       "24  24    F      77.40       Others                 60.00       Others   \n",
       "25  25    M      76.50       Others                 97.70       Others   \n",
       "26  26    F      52.58       Others                 54.60       Central  \n",
       "27  27    M      71.00       Others                 79.00       Others   \n",
       "28  28    M      63.00       Others                 67.00       Others   \n",
       "29  29    M      76.76       Others                 76.50       Others   \n",
       "30  30    M      62.00       Central                67.00       Central  \n",
       "... ...   ...    ...         ...                    ...         ...      \n",
       "186 186   F      88.00       Central                72.00       Central  \n",
       "187 187   F      52.00       Central                64.00       Central  \n",
       "188 188   M      78.50       Central                65.50       Central  \n",
       "189 189   M      61.80       Others                 47.00       Others   \n",
       "190 190   F      54.00       Central                77.60       Others   \n",
       "191 191   F      64.00       Others                 70.20       Central  \n",
       "192 192   M      67.00       Others                 61.00       Central  \n",
       "193 193   M      65.20       Central                61.40       Central  \n",
       "194 194   F      60.00       Central                63.00       Central  \n",
       "195 195   M      52.00       Others                 55.00       Others   \n",
       "196 196   M      66.00       Central                76.00       Central  \n",
       "197 197   M      72.00       Others                 63.00       Others   \n",
       "198 198   F      83.96       Others                 53.00       Others   \n",
       "199 199   F      67.00       Central                70.00       Central  \n",
       "200 200   M      69.00       Others                 65.00       Others   \n",
       "201 201   M      69.00       Others                 60.00       Others   \n",
       "202 202   M      54.20       Central                63.00       Others   \n",
       "203 203   M      70.00       Central                63.00       Central  \n",
       "204 204   M      55.68       Others                 61.33       Others   \n",
       "205 205   F      74.00       Others                 73.00       Others   \n",
       "206 206   M      61.00       Others                 62.00       Others   \n",
       "207 207   M      41.00       Central                42.00       Central  \n",
       "208 208   M      83.33       Central                78.00       Others   \n",
       "209 209   F      43.00       Central                60.00       Others   \n",
       "210 210   M      62.00       Central                72.00       Central  \n",
       "211 211   M      80.60       Others                 82.00       Others   \n",
       "212 212   M      58.00       Others                 60.00       Others   \n",
       "213 213   M      67.00       Others                 67.00       Others   \n",
       "214 214   F      74.00       Others                 66.00       Others   \n",
       "215 215   M      62.00       Central                58.00       Others   \n",
       "    hsc_specialization degree_percent degree_type work_experience\n",
       "1   Commerce           58.00          Sci&Tech    No             \n",
       "2   Science            77.48          Sci&Tech    Yes            \n",
       "3   Arts               64.00          Comm&Mgmt   No             \n",
       "4   Science            52.00          Sci&Tech    No             \n",
       "5   Commerce           73.30          Comm&Mgmt   No             \n",
       "6   Science            67.25          Sci&Tech    Yes            \n",
       "7   Commerce           79.00          Comm&Mgmt   No             \n",
       "8   Science            66.00          Sci&Tech    Yes            \n",
       "9   Commerce           72.00          Comm&Mgmt   No             \n",
       "10  Commerce           61.00          Comm&Mgmt   No             \n",
       "11  Commerce           60.00          Comm&Mgmt   Yes            \n",
       "12  Commerce           78.30          Comm&Mgmt   Yes            \n",
       "13  Science            65.00          Comm&Mgmt   No             \n",
       "14  Commerce           59.00          Comm&Mgmt   No             \n",
       "15  Commerce           50.00          Comm&Mgmt   No             \n",
       "16  Commerce           69.00          Comm&Mgmt   Yes            \n",
       "17  Commerce           65.60          Comm&Mgmt   Yes            \n",
       "18  Commerce           64.00          Comm&Mgmt   No             \n",
       "19  Commerce           64.00          Comm&Mgmt   No             \n",
       "20  Arts               70.00          Comm&Mgmt   Yes            \n",
       "21  Commerce           66.00          Comm&Mgmt   No             \n",
       "22  Commerce           85.00          Comm&Mgmt   No             \n",
       "23  Science            72.23          Sci&Tech    No             \n",
       "24  Science            64.74          Sci&Tech    Yes            \n",
       "25  Science            78.86          Sci&Tech    No             \n",
       "26  Commerce           50.20          Comm&Mgmt   Yes            \n",
       "27  Commerce           66.00          Comm&Mgmt   Yes            \n",
       "28  Commerce           66.00          Comm&Mgmt   No             \n",
       "29  Commerce           67.50          Comm&Mgmt   Yes            \n",
       "30  Commerce           58.00          Comm&Mgmt   No             \n",
       "... ...                ...            ...         ...            \n",
       "186 Science            78.00          Others      No             \n",
       "187 Commerce           61.00          Comm&Mgmt   No             \n",
       "188 Science            67.00          Sci&Tech    Yes            \n",
       "189 Commerce           54.38          Comm&Mgmt   No             \n",
       "190 Commerce           69.20          Comm&Mgmt   No             \n",
       "191 Commerce           61.00          Comm&Mgmt   No             \n",
       "192 Science            72.00          Comm&Mgmt   No             \n",
       "193 Commerce           64.80          Comm&Mgmt   Yes            \n",
       "194 Arts               56.00          Others      Yes            \n",
       "195 Commerce           56.30          Comm&Mgmt   No             \n",
       "196 Commerce           72.00          Comm&Mgmt   Yes            \n",
       "197 Science            77.50          Sci&Tech    Yes            \n",
       "198 Science            91.00          Sci&Tech    No             \n",
       "199 Commerce           65.00          Others      No             \n",
       "200 Commerce           57.00          Comm&Mgmt   No             \n",
       "201 Commerce           65.00          Comm&Mgmt   No             \n",
       "202 Science            58.00          Comm&Mgmt   No             \n",
       "203 Science            66.00          Sci&Tech    No             \n",
       "204 Commerce           56.87          Comm&Mgmt   No             \n",
       "205 Commerce           73.00          Comm&Mgmt   Yes            \n",
       "206 Commerce           65.00          Comm&Mgmt   No             \n",
       "207 Science            60.00          Comm&Mgmt   No             \n",
       "208 Commerce           61.00          Comm&Mgmt   Yes            \n",
       "209 Science            65.00          Comm&Mgmt   No             \n",
       "210 Commerce           65.00          Comm&Mgmt   No             \n",
       "211 Commerce           77.60          Comm&Mgmt   No             \n",
       "212 Science            72.00          Sci&Tech    No             \n",
       "213 Commerce           73.00          Comm&Mgmt   Yes            \n",
       "214 Commerce           58.00          Comm&Mgmt   No             \n",
       "215 Science            53.00          Comm&Mgmt   No             \n",
       "    employment_test_percent specialisation mba_percent status     salary\n",
       "1   55.00                   Mkt&HR         58.80       Placed     270000\n",
       "2   86.50                   Mkt&Fin        66.28       Placed     200000\n",
       "3   75.00                   Mkt&Fin        57.80       Placed     250000\n",
       "4   66.00                   Mkt&HR         59.43       Not Placed      0\n",
       "5   96.80                   Mkt&Fin        55.50       Placed     425000\n",
       "6   55.00                   Mkt&Fin        51.58       Not Placed      0\n",
       "7   74.28                   Mkt&Fin        53.29       Not Placed      0\n",
       "8   67.00                   Mkt&Fin        62.14       Placed     252000\n",
       "9   91.34                   Mkt&Fin        61.29       Placed     231000\n",
       "10  54.00                   Mkt&Fin        52.21       Not Placed      0\n",
       "11  62.00                   Mkt&HR         60.85       Placed     260000\n",
       "12  60.00                   Mkt&Fin        63.70       Placed     250000\n",
       "13  62.00                   Mkt&HR         65.04       Not Placed      0\n",
       "14  68.00                   Mkt&Fin        68.63       Placed     218000\n",
       "15  76.00                   Mkt&HR         54.96       Not Placed      0\n",
       "16  72.00                   Mkt&Fin        64.66       Placed     200000\n",
       "17  60.00                   Mkt&Fin        62.54       Placed     300000\n",
       "18  60.00                   Mkt&Fin        67.28       Not Placed      0\n",
       "19  68.00                   Mkt&HR         64.08       Not Placed      0\n",
       "20  50.48                   Mkt&Fin        77.89       Placed     236000\n",
       "21  50.00                   Mkt&HR         56.70       Placed     265000\n",
       "22  95.00                   Mkt&Fin        69.06       Placed     393000\n",
       "23  55.53                   Mkt&HR         68.81       Placed     360000\n",
       "24  92.00                   Mkt&Fin        63.62       Placed     300000\n",
       "25  97.40                   Mkt&Fin        74.01       Placed     360000\n",
       "26  76.00                   Mkt&Fin        65.33       Not Placed      0\n",
       "27  94.00                   Mkt&Fin        57.55       Placed     240000\n",
       "28  68.00                   Mkt&HR         57.69       Placed     265000\n",
       "29  73.35                   Mkt&Fin        64.15       Placed     350000\n",
       "30  77.00                   Mkt&Fin        51.29       Not Placed      0\n",
       "... ...                     ...            ...         ...        ...   \n",
       "186 82.00                   Mkt&HR         71.43       Placed     252000\n",
       "187 55.00                   Mkt&Fin        62.93       Not Placed      0\n",
       "188 95.00                   Mkt&Fin        64.86       Placed     280000\n",
       "189 57.00                   Mkt&Fin        56.13       Not Placed      0\n",
       "190 95.65                   Mkt&Fin        66.94       Not Placed      0\n",
       "191 50.00                   Mkt&Fin        62.50       Not Placed      0\n",
       "192 72.00                   Mkt&Fin        61.01       Placed     264000\n",
       "193 93.40                   Mkt&Fin        57.34       Placed     270000\n",
       "194 80.00                   Mkt&HR         56.63       Placed     300000\n",
       "195 59.00                   Mkt&Fin        64.74       Not Placed      0\n",
       "196 84.00                   Mkt&HR         58.95       Placed     275000\n",
       "197 78.00                   Mkt&Fin        54.48       Placed     250000\n",
       "198 59.32                   Mkt&HR         69.71       Placed     260000\n",
       "199 88.00                   Mkt&HR         71.96       Not Placed      0\n",
       "200 73.00                   Mkt&HR         55.80       Placed     265000\n",
       "201 87.55                   Mkt&Fin        52.81       Placed     300000\n",
       "202 79.00                   Mkt&HR         58.44       Not Placed      0\n",
       "203 61.28                   Mkt&HR         60.11       Placed     240000\n",
       "204 66.00                   Mkt&HR         58.30       Placed     260000\n",
       "205 80.00                   Mkt&Fin        67.69       Placed     210000\n",
       "206 62.00                   Mkt&Fin        56.81       Placed     250000\n",
       "207 97.00                   Mkt&Fin        53.39       Not Placed      0\n",
       "208 88.56                   Mkt&Fin        71.55       Placed     300000\n",
       "209 92.66                   Mkt&HR         62.92       Not Placed      0\n",
       "210 67.00                   Mkt&Fin        56.49       Placed     216000\n",
       "211 91.00                   Mkt&Fin        74.49       Placed     400000\n",
       "212 74.00                   Mkt&Fin        53.62       Placed     275000\n",
       "213 59.00                   Mkt&Fin        69.72       Placed     295000\n",
       "214 70.00                   Mkt&HR         60.23       Placed     204000\n",
       "215 89.00                   Mkt&HR         60.22       Not Placed      0"
      ]
     },
     "metadata": {},
     "output_type": "display_data"
    }
   ],
   "source": [
    "dataset1[is.na(dataset1)] = 0\n",
    "dataset1"
   ]
  },
  {
   "cell_type": "code",
   "execution_count": 8,
   "metadata": {},
   "outputs": [],
   "source": [
    "# checking for missing values"
   ]
  },
  {
   "cell_type": "code",
   "execution_count": 9,
   "metadata": {},
   "outputs": [
    {
     "data": {
      "text/html": [
       "<style>\n",
       ".dl-inline {width: auto; margin:0; padding: 0}\n",
       ".dl-inline>dt, .dl-inline>dd {float: none; width: auto; display: inline-block}\n",
       ".dl-inline>dt::after {content: \":\\0020\"; padding-right: .5ex}\n",
       ".dl-inline>dt:not(:first-of-type) {padding-left: .5ex}\n",
       "</style><dl class=dl-inline><dt>Sl_no</dt><dd>0</dd><dt>gender</dt><dd>0</dd><dt>ssc_percent</dt><dd>0</dd><dt>ssc_board_of_education</dt><dd>0</dd><dt>hsc_percent</dt><dd>0</dd><dt>hsc_board</dt><dd>0</dd><dt>hsc_specialization</dt><dd>0</dd><dt>degree_percent</dt><dd>0</dd><dt>degree_type</dt><dd>0</dd><dt>work_experience</dt><dd>0</dd><dt>employment_test_percent</dt><dd>0</dd><dt>specialisation</dt><dd>0</dd><dt>mba_percent</dt><dd>0</dd><dt>status</dt><dd>0</dd><dt>salary</dt><dd>0</dd></dl>\n"
      ],
      "text/latex": [
       "\\begin{description*}\n",
       "\\item[Sl\\textbackslash{}\\_no] 0\n",
       "\\item[gender] 0\n",
       "\\item[ssc\\textbackslash{}\\_percent] 0\n",
       "\\item[ssc\\textbackslash{}\\_board\\textbackslash{}\\_of\\textbackslash{}\\_education] 0\n",
       "\\item[hsc\\textbackslash{}\\_percent] 0\n",
       "\\item[hsc\\textbackslash{}\\_board] 0\n",
       "\\item[hsc\\textbackslash{}\\_specialization] 0\n",
       "\\item[degree\\textbackslash{}\\_percent] 0\n",
       "\\item[degree\\textbackslash{}\\_type] 0\n",
       "\\item[work\\textbackslash{}\\_experience] 0\n",
       "\\item[employment\\textbackslash{}\\_test\\textbackslash{}\\_percent] 0\n",
       "\\item[specialisation] 0\n",
       "\\item[mba\\textbackslash{}\\_percent] 0\n",
       "\\item[status] 0\n",
       "\\item[salary] 0\n",
       "\\end{description*}\n"
      ],
      "text/markdown": [
       "Sl_no\n",
       ":   0gender\n",
       ":   0ssc_percent\n",
       ":   0ssc_board_of_education\n",
       ":   0hsc_percent\n",
       ":   0hsc_board\n",
       ":   0hsc_specialization\n",
       ":   0degree_percent\n",
       ":   0degree_type\n",
       ":   0work_experience\n",
       ":   0employment_test_percent\n",
       ":   0specialisation\n",
       ":   0mba_percent\n",
       ":   0status\n",
       ":   0salary\n",
       ":   0\n",
       "\n"
      ],
      "text/plain": [
       "                  Sl_no                  gender             ssc_percent \n",
       "                      0                       0                       0 \n",
       " ssc_board_of_education             hsc_percent               hsc_board \n",
       "                      0                       0                       0 \n",
       "     hsc_specialization          degree_percent             degree_type \n",
       "                      0                       0                       0 \n",
       "        work_experience employment_test_percent          specialisation \n",
       "                      0                       0                       0 \n",
       "            mba_percent                  status                  salary \n",
       "                      0                       0                       0 "
      ]
     },
     "metadata": {},
     "output_type": "display_data"
    }
   ],
   "source": [
    "sapply(dataset1, function(x) sum(is.na(x)))"
   ]
  },
  {
   "cell_type": "code",
   "execution_count": 10,
   "metadata": {},
   "outputs": [
    {
     "data": {
      "image/png": "[encoded data removed]",
      "text/plain": [
       "Plot with title \"OUTLIERS\""
      ]
     },
     "metadata": {
      "image/png": {
       "height": 420,
       "width": 420
      }
     },
     "output_type": "display_data"
    }
   ],
   "source": [
    "# checking for outliers using boxplot\n",
    "\n",
    "plot = dataset1[,c(\"ssc_percent\",\"hsc_percent\",\"degree_percent\",\"employment_test_percent\",\"mba_percent\")]\n",
    "names(plot) = c(\"ssc\",\"hsc\",\"degree\",\"employment\",\"mba\")\n",
    "boxplot(plot,notch = TRUE,xlab=\"PERCENTAGE\",main=\"OUTLIERS\")"
   ]
  },
  {
   "cell_type": "code",
   "execution_count": 11,
   "metadata": {},
   "outputs": [
    {
     "data": {
      "image/png": "[encoded data removed]",
      "text/plain": [
       "Plot with title \"HSC Percentage without Outliers\n",
       "\""
      ]
     },
     "metadata": {
      "image/png": {
       "height": 420,
       "width": 420
      }
     },
     "output_type": "display_data"
    }
   ],
   "source": [
    "x = dataset1$hsc_percent\n",
    "y = dataset1$hsc_percent\n",
    "par(mfrow = c(1, 2))\n",
    "boxplot(x, xlab= \"Percentage\", main=\"HSC Percentage with Outliers\\n\")\n",
    "boxplot(y, xlab= \"Percentage\", main=\"HSC Percentage without Outliers\\n\",outline=FALSE)"
   ]
  },
  {
   "cell_type": "code",
   "execution_count": 12,
   "metadata": {},
   "outputs": [
    {
     "data": {
      "image/png": "[encoded data removed]",
      "text/plain": [
       "Plot with title \"HSC Percentage without Outliers\n",
       "\""
      ]
     },
     "metadata": {
      "image/png": {
       "height": 420,
       "width": 420
      }
     },
     "output_type": "display_data"
    }
   ],
   "source": [
    "x = dataset1$degree_percent\n",
    "y = dataset1$degree_percent\n",
    "par(mfrow = c(1, 2))\n",
    "boxplot(x,xlab= \"Percentage\", main=\"HSC Percentage with Outliers\\n\")\n",
    "boxplot(y, xlab= \"Percentage\", main=\"HSC Percentage without Outliers\\n\",outline=FALSE)"
   ]
  },
  {
   "cell_type": "markdown",
   "metadata": {},
   "source": [
    "### 3. DATA EXPLORATION"
   ]
  },
  {
   "cell_type": "code",
   "execution_count": 13,
   "metadata": {},
   "outputs": [
    {
     "name": "stdout",
     "output_type": "stream",
     "text": [
      "'data.frame':\t215 obs. of  15 variables:\n",
      " $ Sl_no                  : int  1 2 3 4 5 6 7 8 9 10 ...\n",
      " $ gender                 : chr  \"M\" \"M\" \"M\" \"M\" ...\n",
      " $ ssc_percent            : num  67 79.3 65 56 85.8 ...\n",
      " $ ssc_board_of_education : chr  \"Others\" \"Central\" \"Central\" \"Central\" ...\n",
      " $ hsc_percent            : num  91 78.3 68 52 73.6 ...\n",
      " $ hsc_board              : chr  \"Others\" \"Others\" \"Central\" \"Central\" ...\n",
      " $ hsc_specialization     : chr  \"Commerce\" \"Science\" \"Arts\" \"Science\" ...\n",
      " $ degree_percent         : num  58 77.5 64 52 73.3 ...\n",
      " $ degree_type            : chr  \"Sci&Tech\" \"Sci&Tech\" \"Comm&Mgmt\" \"Sci&Tech\" ...\n",
      " $ work_experience        : chr  \"No\" \"Yes\" \"No\" \"No\" ...\n",
      " $ employment_test_percent: num  55 86.5 75 66 96.8 ...\n",
      " $ specialisation         : chr  \"Mkt&HR\" \"Mkt&Fin\" \"Mkt&Fin\" \"Mkt&HR\" ...\n",
      " $ mba_percent            : num  58.8 66.3 57.8 59.4 55.5 ...\n",
      " $ status                 : chr  \"Placed\" \"Placed\" \"Placed\" \"Not Placed\" ...\n",
      " $ salary                 : num  270000 200000 250000 0 425000 0 0 252000 231000 0 ...\n"
     ]
    }
   ],
   "source": [
    "str(dataset1)"
   ]
  },
  {
   "cell_type": "code",
   "execution_count": 14,
   "metadata": {},
   "outputs": [
    {
     "data": {
      "text/plain": [
       "     Sl_no          gender           ssc_percent    ssc_board_of_education\n",
       " Min.   :  1.0   Length:215         Min.   :40.89   Length:215            \n",
       " 1st Qu.: 54.5   Class :character   1st Qu.:60.60   Class :character      \n",
       " Median :108.0   Mode  :character   Median :67.00   Mode  :character      \n",
       " Mean   :108.0                      Mean   :67.30                         \n",
       " 3rd Qu.:161.5                      3rd Qu.:75.70                         \n",
       " Max.   :215.0                      Max.   :89.40                         \n",
       "  hsc_percent     hsc_board         hsc_specialization degree_percent \n",
       " Min.   :37.00   Length:215         Length:215         Min.   :50.00  \n",
       " 1st Qu.:60.90   Class :character   Class :character   1st Qu.:61.00  \n",
       " Median :65.00   Mode  :character   Mode  :character   Median :66.00  \n",
       " Mean   :66.33                                         Mean   :66.37  \n",
       " 3rd Qu.:73.00                                         3rd Qu.:72.00  \n",
       " Max.   :97.70                                         Max.   :91.00  \n",
       " degree_type        work_experience    employment_test_percent\n",
       " Length:215         Length:215         Min.   :50.0           \n",
       " Class :character   Class :character   1st Qu.:60.0           \n",
       " Mode  :character   Mode  :character   Median :71.0           \n",
       "                                       Mean   :72.1           \n",
       "                                       3rd Qu.:83.5           \n",
       "                                       Max.   :98.0           \n",
       " specialisation      mba_percent       status              salary      \n",
       " Length:215         Min.   :51.21   Length:215         Min.   :     0  \n",
       " Class :character   1st Qu.:57.95   Class :character   1st Qu.:     0  \n",
       " Mode  :character   Median :62.00   Mode  :character   Median :240000  \n",
       "                    Mean   :62.28                      Mean   :198702  \n",
       "                    3rd Qu.:66.25                      3rd Qu.:282500  \n",
       "                    Max.   :77.89                      Max.   :940000  "
      ]
     },
     "metadata": {},
     "output_type": "display_data"
    }
   ],
   "source": [
    "summary(dataset1)"
   ]
  },
  {
   "cell_type": "code",
   "execution_count": 15,
   "metadata": {},
   "outputs": [
    {
     "data": {
      "text/html": [
       "<style>\n",
       ".list-inline {list-style: none; margin:0; padding: 0}\n",
       ".list-inline>li {display: inline-block}\n",
       ".list-inline>li:not(:last-child)::after {content: \"\\00b7\"; padding: 0 .5ex}\n",
       "</style>\n",
       "<ol class=list-inline><li>215</li><li>15</li></ol>\n"
      ],
      "text/latex": [
       "\\begin{enumerate*}\n",
       "\\item 215\n",
       "\\item 15\n",
       "\\end{enumerate*}\n"
      ],
      "text/markdown": [
       "1. 215\n",
       "2. 15\n",
       "\n",
       "\n"
      ],
      "text/plain": [
       "[1] 215  15"
      ]
     },
     "metadata": {},
     "output_type": "display_data"
    }
   ],
   "source": [
    "dim(dataset1)"
   ]
  },
  {
   "cell_type": "code",
   "execution_count": 16,
   "metadata": {},
   "outputs": [
    {
     "data": {
      "text/html": [
       "<table class=\"dataframe\">\n",
       "<caption>A data.frame: 6 × 15</caption>\n",
       "<thead>\n",
       "\t<tr><th></th><th scope=col>Sl_no</th><th scope=col>gender</th><th scope=col>ssc_percent</th><th scope=col>ssc_board_of_education</th><th scope=col>hsc_percent</th><th scope=col>hsc_board</th><th scope=col>hsc_specialization</th><th scope=col>degree_percent</th><th scope=col>degree_type</th><th scope=col>work_experience</th><th scope=col>employment_test_percent</th><th scope=col>specialisation</th><th scope=col>mba_percent</th><th scope=col>status</th><th scope=col>salary</th></tr>\n",
       "\t<tr><th></th><th scope=col>&lt;int&gt;</th><th scope=col>&lt;chr&gt;</th><th scope=col>&lt;dbl&gt;</th><th scope=col>&lt;chr&gt;</th><th scope=col>&lt;dbl&gt;</th><th scope=col>&lt;chr&gt;</th><th scope=col>&lt;chr&gt;</th><th scope=col>&lt;dbl&gt;</th><th scope=col>&lt;chr&gt;</th><th scope=col>&lt;chr&gt;</th><th scope=col>&lt;dbl&gt;</th><th scope=col>&lt;chr&gt;</th><th scope=col>&lt;dbl&gt;</th><th scope=col>&lt;chr&gt;</th><th scope=col>&lt;dbl&gt;</th></tr>\n",
       "</thead>\n",
       "<tbody>\n",
       "\t<tr><th scope=row>1</th><td>1</td><td>M</td><td>67.00</td><td>Others </td><td>91.00</td><td>Others </td><td>Commerce</td><td>58.00</td><td>Sci&amp;Tech </td><td>No </td><td>55.0</td><td>Mkt&amp;HR </td><td>58.80</td><td><span style=white-space:pre-wrap>Placed    </span></td><td>270000</td></tr>\n",
       "\t<tr><th scope=row>2</th><td>2</td><td>M</td><td>79.33</td><td>Central</td><td>78.33</td><td>Others </td><td>Science </td><td>77.48</td><td>Sci&amp;Tech </td><td>Yes</td><td>86.5</td><td>Mkt&amp;Fin</td><td>66.28</td><td><span style=white-space:pre-wrap>Placed    </span></td><td>200000</td></tr>\n",
       "\t<tr><th scope=row>3</th><td>3</td><td>M</td><td>65.00</td><td>Central</td><td>68.00</td><td>Central</td><td><span style=white-space:pre-wrap>Arts    </span></td><td>64.00</td><td>Comm&amp;Mgmt</td><td>No </td><td>75.0</td><td>Mkt&amp;Fin</td><td>57.80</td><td><span style=white-space:pre-wrap>Placed    </span></td><td>250000</td></tr>\n",
       "\t<tr><th scope=row>4</th><td>4</td><td>M</td><td>56.00</td><td>Central</td><td>52.00</td><td>Central</td><td>Science </td><td>52.00</td><td>Sci&amp;Tech </td><td>No </td><td>66.0</td><td>Mkt&amp;HR </td><td>59.43</td><td>Not Placed</td><td><span style=white-space:pre-wrap>     0</span></td></tr>\n",
       "\t<tr><th scope=row>5</th><td>5</td><td>M</td><td>85.80</td><td>Central</td><td>73.60</td><td>Central</td><td>Commerce</td><td>73.30</td><td>Comm&amp;Mgmt</td><td>No </td><td>96.8</td><td>Mkt&amp;Fin</td><td>55.50</td><td><span style=white-space:pre-wrap>Placed    </span></td><td>425000</td></tr>\n",
       "\t<tr><th scope=row>6</th><td>6</td><td>M</td><td>55.00</td><td>Others </td><td>49.80</td><td>Others </td><td>Science </td><td>67.25</td><td>Sci&amp;Tech </td><td>Yes</td><td>55.0</td><td>Mkt&amp;Fin</td><td>51.58</td><td>Not Placed</td><td><span style=white-space:pre-wrap>     0</span></td></tr>\n",
       "</tbody>\n",
       "</table>\n"
      ],
      "text/latex": [
       "A data.frame: 6 × 15\n",
       "\\begin{tabular}{r|lllllllllllllll}\n",
       "  & Sl\\_no & gender & ssc\\_percent & ssc\\_board\\_of\\_education & hsc\\_percent & hsc\\_board & hsc\\_specialization & degree\\_percent & degree\\_type & work\\_experience & employment\\_test\\_percent & specialisation & mba\\_percent & status & salary\\\\\n",
       "  & <int> & <chr> & <dbl> & <chr> & <dbl> & <chr> & <chr> & <dbl> & <chr> & <chr> & <dbl> & <chr> & <dbl> & <chr> & <dbl>\\\\\n",
       "\\hline\n",
       "\t1 & 1 & M & 67.00 & Others  & 91.00 & Others  & Commerce & 58.00 & Sci\\&Tech  & No  & 55.0 & Mkt\\&HR  & 58.80 & Placed     & 270000\\\\\n",
       "\t2 & 2 & M & 79.33 & Central & 78.33 & Others  & Science  & 77.48 & Sci\\&Tech  & Yes & 86.5 & Mkt\\&Fin & 66.28 & Placed     & 200000\\\\\n",
       "\t3 & 3 & M & 65.00 & Central & 68.00 & Central & Arts     & 64.00 & Comm\\&Mgmt & No  & 75.0 & Mkt\\&Fin & 57.80 & Placed     & 250000\\\\\n",
       "\t4 & 4 & M & 56.00 & Central & 52.00 & Central & Science  & 52.00 & Sci\\&Tech  & No  & 66.0 & Mkt\\&HR  & 59.43 & Not Placed &      0\\\\\n",
       "\t5 & 5 & M & 85.80 & Central & 73.60 & Central & Commerce & 73.30 & Comm\\&Mgmt & No  & 96.8 & Mkt\\&Fin & 55.50 & Placed     & 425000\\\\\n",
       "\t6 & 6 & M & 55.00 & Others  & 49.80 & Others  & Science  & 67.25 & Sci\\&Tech  & Yes & 55.0 & Mkt\\&Fin & 51.58 & Not Placed &      0\\\\\n",
       "\\end{tabular}\n"
      ],
      "text/markdown": [
       "\n",
       "A data.frame: 6 × 15\n",
       "\n",
       "| <!--/--> | Sl_no &lt;int&gt; | gender &lt;chr&gt; | ssc_percent &lt;dbl&gt; | ssc_board_of_education &lt;chr&gt; | hsc_percent &lt;dbl&gt; | hsc_board &lt;chr&gt; | hsc_specialization &lt;chr&gt; | degree_percent &lt;dbl&gt; | degree_type &lt;chr&gt; | work_experience &lt;chr&gt; | employment_test_percent &lt;dbl&gt; | specialisation &lt;chr&gt; | mba_percent &lt;dbl&gt; | status &lt;chr&gt; | salary &lt;dbl&gt; |\n",
       "|---|---|---|---|---|---|---|---|---|---|---|---|---|---|---|---|\n",
       "| 1 | 1 | M | 67.00 | Others  | 91.00 | Others  | Commerce | 58.00 | Sci&amp;Tech  | No  | 55.0 | Mkt&amp;HR  | 58.80 | Placed     | 270000 |\n",
       "| 2 | 2 | M | 79.33 | Central | 78.33 | Others  | Science  | 77.48 | Sci&amp;Tech  | Yes | 86.5 | Mkt&amp;Fin | 66.28 | Placed     | 200000 |\n",
       "| 3 | 3 | M | 65.00 | Central | 68.00 | Central | Arts     | 64.00 | Comm&amp;Mgmt | No  | 75.0 | Mkt&amp;Fin | 57.80 | Placed     | 250000 |\n",
       "| 4 | 4 | M | 56.00 | Central | 52.00 | Central | Science  | 52.00 | Sci&amp;Tech  | No  | 66.0 | Mkt&amp;HR  | 59.43 | Not Placed |      0 |\n",
       "| 5 | 5 | M | 85.80 | Central | 73.60 | Central | Commerce | 73.30 | Comm&amp;Mgmt | No  | 96.8 | Mkt&amp;Fin | 55.50 | Placed     | 425000 |\n",
       "| 6 | 6 | M | 55.00 | Others  | 49.80 | Others  | Science  | 67.25 | Sci&amp;Tech  | Yes | 55.0 | Mkt&amp;Fin | 51.58 | Not Placed |      0 |\n",
       "\n"
      ],
      "text/plain": [
       "  Sl_no gender ssc_percent ssc_board_of_education hsc_percent hsc_board\n",
       "1 1     M      67.00       Others                 91.00       Others   \n",
       "2 2     M      79.33       Central                78.33       Others   \n",
       "3 3     M      65.00       Central                68.00       Central  \n",
       "4 4     M      56.00       Central                52.00       Central  \n",
       "5 5     M      85.80       Central                73.60       Central  \n",
       "6 6     M      55.00       Others                 49.80       Others   \n",
       "  hsc_specialization degree_percent degree_type work_experience\n",
       "1 Commerce           58.00          Sci&Tech    No             \n",
       "2 Science            77.48          Sci&Tech    Yes            \n",
       "3 Arts               64.00          Comm&Mgmt   No             \n",
       "4 Science            52.00          Sci&Tech    No             \n",
       "5 Commerce           73.30          Comm&Mgmt   No             \n",
       "6 Science            67.25          Sci&Tech    Yes            \n",
       "  employment_test_percent specialisation mba_percent status     salary\n",
       "1 55.0                    Mkt&HR         58.80       Placed     270000\n",
       "2 86.5                    Mkt&Fin        66.28       Placed     200000\n",
       "3 75.0                    Mkt&Fin        57.80       Placed     250000\n",
       "4 66.0                    Mkt&HR         59.43       Not Placed      0\n",
       "5 96.8                    Mkt&Fin        55.50       Placed     425000\n",
       "6 55.0                    Mkt&Fin        51.58       Not Placed      0"
      ]
     },
     "metadata": {},
     "output_type": "display_data"
    }
   ],
   "source": [
    "head(dataset1)"
   ]
  },
  {
   "cell_type": "code",
   "execution_count": 17,
   "metadata": {},
   "outputs": [
    {
     "data": {
      "text/html": [
       "<table class=\"dataframe\">\n",
       "<caption>A data.frame: 6 × 15</caption>\n",
       "<thead>\n",
       "\t<tr><th></th><th scope=col>Sl_no</th><th scope=col>gender</th><th scope=col>ssc_percent</th><th scope=col>ssc_board_of_education</th><th scope=col>hsc_percent</th><th scope=col>hsc_board</th><th scope=col>hsc_specialization</th><th scope=col>degree_percent</th><th scope=col>degree_type</th><th scope=col>work_experience</th><th scope=col>employment_test_percent</th><th scope=col>specialisation</th><th scope=col>mba_percent</th><th scope=col>status</th><th scope=col>salary</th></tr>\n",
       "\t<tr><th></th><th scope=col>&lt;int&gt;</th><th scope=col>&lt;chr&gt;</th><th scope=col>&lt;dbl&gt;</th><th scope=col>&lt;chr&gt;</th><th scope=col>&lt;dbl&gt;</th><th scope=col>&lt;chr&gt;</th><th scope=col>&lt;chr&gt;</th><th scope=col>&lt;dbl&gt;</th><th scope=col>&lt;chr&gt;</th><th scope=col>&lt;chr&gt;</th><th scope=col>&lt;dbl&gt;</th><th scope=col>&lt;chr&gt;</th><th scope=col>&lt;dbl&gt;</th><th scope=col>&lt;chr&gt;</th><th scope=col>&lt;dbl&gt;</th></tr>\n",
       "</thead>\n",
       "<tbody>\n",
       "\t<tr><th scope=row>210</th><td>210</td><td>M</td><td>62.0</td><td>Central</td><td>72</td><td>Central</td><td>Commerce</td><td>65.0</td><td>Comm&amp;Mgmt</td><td>No </td><td>67</td><td>Mkt&amp;Fin</td><td>56.49</td><td><span style=white-space:pre-wrap>Placed    </span></td><td>216000</td></tr>\n",
       "\t<tr><th scope=row>211</th><td>211</td><td>M</td><td>80.6</td><td>Others </td><td>82</td><td>Others </td><td>Commerce</td><td>77.6</td><td>Comm&amp;Mgmt</td><td>No </td><td>91</td><td>Mkt&amp;Fin</td><td>74.49</td><td><span style=white-space:pre-wrap>Placed    </span></td><td>400000</td></tr>\n",
       "\t<tr><th scope=row>212</th><td>212</td><td>M</td><td>58.0</td><td>Others </td><td>60</td><td>Others </td><td>Science </td><td>72.0</td><td>Sci&amp;Tech </td><td>No </td><td>74</td><td>Mkt&amp;Fin</td><td>53.62</td><td><span style=white-space:pre-wrap>Placed    </span></td><td>275000</td></tr>\n",
       "\t<tr><th scope=row>213</th><td>213</td><td>M</td><td>67.0</td><td>Others </td><td>67</td><td>Others </td><td>Commerce</td><td>73.0</td><td>Comm&amp;Mgmt</td><td>Yes</td><td>59</td><td>Mkt&amp;Fin</td><td>69.72</td><td><span style=white-space:pre-wrap>Placed    </span></td><td>295000</td></tr>\n",
       "\t<tr><th scope=row>214</th><td>214</td><td>F</td><td>74.0</td><td>Others </td><td>66</td><td>Others </td><td>Commerce</td><td>58.0</td><td>Comm&amp;Mgmt</td><td>No </td><td>70</td><td>Mkt&amp;HR </td><td>60.23</td><td><span style=white-space:pre-wrap>Placed    </span></td><td>204000</td></tr>\n",
       "\t<tr><th scope=row>215</th><td>215</td><td>M</td><td>62.0</td><td>Central</td><td>58</td><td>Others </td><td>Science </td><td>53.0</td><td>Comm&amp;Mgmt</td><td>No </td><td>89</td><td>Mkt&amp;HR </td><td>60.22</td><td>Not Placed</td><td><span style=white-space:pre-wrap>     0</span></td></tr>\n",
       "</tbody>\n",
       "</table>\n"
      ],
      "text/latex": [
       "A data.frame: 6 × 15\n",
       "\\begin{tabular}{r|lllllllllllllll}\n",
       "  & Sl\\_no & gender & ssc\\_percent & ssc\\_board\\_of\\_education & hsc\\_percent & hsc\\_board & hsc\\_specialization & degree\\_percent & degree\\_type & work\\_experience & employment\\_test\\_percent & specialisation & mba\\_percent & status & salary\\\\\n",
       "  & <int> & <chr> & <dbl> & <chr> & <dbl> & <chr> & <chr> & <dbl> & <chr> & <chr> & <dbl> & <chr> & <dbl> & <chr> & <dbl>\\\\\n",
       "\\hline\n",
       "\t210 & 210 & M & 62.0 & Central & 72 & Central & Commerce & 65.0 & Comm\\&Mgmt & No  & 67 & Mkt\\&Fin & 56.49 & Placed     & 216000\\\\\n",
       "\t211 & 211 & M & 80.6 & Others  & 82 & Others  & Commerce & 77.6 & Comm\\&Mgmt & No  & 91 & Mkt\\&Fin & 74.49 & Placed     & 400000\\\\\n",
       "\t212 & 212 & M & 58.0 & Others  & 60 & Others  & Science  & 72.0 & Sci\\&Tech  & No  & 74 & Mkt\\&Fin & 53.62 & Placed     & 275000\\\\\n",
       "\t213 & 213 & M & 67.0 & Others  & 67 & Others  & Commerce & 73.0 & Comm\\&Mgmt & Yes & 59 & Mkt\\&Fin & 69.72 & Placed     & 295000\\\\\n",
       "\t214 & 214 & F & 74.0 & Others  & 66 & Others  & Commerce & 58.0 & Comm\\&Mgmt & No  & 70 & Mkt\\&HR  & 60.23 & Placed     & 204000\\\\\n",
       "\t215 & 215 & M & 62.0 & Central & 58 & Others  & Science  & 53.0 & Comm\\&Mgmt & No  & 89 & Mkt\\&HR  & 60.22 & Not Placed &      0\\\\\n",
       "\\end{tabular}\n"
      ],
      "text/markdown": [
       "\n",
       "A data.frame: 6 × 15\n",
       "\n",
       "| <!--/--> | Sl_no &lt;int&gt; | gender &lt;chr&gt; | ssc_percent &lt;dbl&gt; | ssc_board_of_education &lt;chr&gt; | hsc_percent &lt;dbl&gt; | hsc_board &lt;chr&gt; | hsc_specialization &lt;chr&gt; | degree_percent &lt;dbl&gt; | degree_type &lt;chr&gt; | work_experience &lt;chr&gt; | employment_test_percent &lt;dbl&gt; | specialisation &lt;chr&gt; | mba_percent &lt;dbl&gt; | status &lt;chr&gt; | salary &lt;dbl&gt; |\n",
       "|---|---|---|---|---|---|---|---|---|---|---|---|---|---|---|---|\n",
       "| 210 | 210 | M | 62.0 | Central | 72 | Central | Commerce | 65.0 | Comm&amp;Mgmt | No  | 67 | Mkt&amp;Fin | 56.49 | Placed     | 216000 |\n",
       "| 211 | 211 | M | 80.6 | Others  | 82 | Others  | Commerce | 77.6 | Comm&amp;Mgmt | No  | 91 | Mkt&amp;Fin | 74.49 | Placed     | 400000 |\n",
       "| 212 | 212 | M | 58.0 | Others  | 60 | Others  | Science  | 72.0 | Sci&amp;Tech  | No  | 74 | Mkt&amp;Fin | 53.62 | Placed     | 275000 |\n",
       "| 213 | 213 | M | 67.0 | Others  | 67 | Others  | Commerce | 73.0 | Comm&amp;Mgmt | Yes | 59 | Mkt&amp;Fin | 69.72 | Placed     | 295000 |\n",
       "| 214 | 214 | F | 74.0 | Others  | 66 | Others  | Commerce | 58.0 | Comm&amp;Mgmt | No  | 70 | Mkt&amp;HR  | 60.23 | Placed     | 204000 |\n",
       "| 215 | 215 | M | 62.0 | Central | 58 | Others  | Science  | 53.0 | Comm&amp;Mgmt | No  | 89 | Mkt&amp;HR  | 60.22 | Not Placed |      0 |\n",
       "\n"
      ],
      "text/plain": [
       "    Sl_no gender ssc_percent ssc_board_of_education hsc_percent hsc_board\n",
       "210 210   M      62.0        Central                72          Central  \n",
       "211 211   M      80.6        Others                 82          Others   \n",
       "212 212   M      58.0        Others                 60          Others   \n",
       "213 213   M      67.0        Others                 67          Others   \n",
       "214 214   F      74.0        Others                 66          Others   \n",
       "215 215   M      62.0        Central                58          Others   \n",
       "    hsc_specialization degree_percent degree_type work_experience\n",
       "210 Commerce           65.0           Comm&Mgmt   No             \n",
       "211 Commerce           77.6           Comm&Mgmt   No             \n",
       "212 Science            72.0           Sci&Tech    No             \n",
       "213 Commerce           73.0           Comm&Mgmt   Yes            \n",
       "214 Commerce           58.0           Comm&Mgmt   No             \n",
       "215 Science            53.0           Comm&Mgmt   No             \n",
       "    employment_test_percent specialisation mba_percent status     salary\n",
       "210 67                      Mkt&Fin        56.49       Placed     216000\n",
       "211 91                      Mkt&Fin        74.49       Placed     400000\n",
       "212 74                      Mkt&Fin        53.62       Placed     275000\n",
       "213 59                      Mkt&Fin        69.72       Placed     295000\n",
       "214 70                      Mkt&HR         60.23       Placed     204000\n",
       "215 89                      Mkt&HR         60.22       Not Placed      0"
      ]
     },
     "metadata": {},
     "output_type": "display_data"
    }
   ],
   "source": [
    "tail(dataset1)"
   ]
  },
  {
   "cell_type": "code",
   "execution_count": 18,
   "metadata": {},
   "outputs": [
    {
     "data": {
      "text/html": [
       "<style>\n",
       ".list-inline {list-style: none; margin:0; padding: 0}\n",
       ".list-inline>li {display: inline-block}\n",
       ".list-inline>li:not(:last-child)::after {content: \"\\00b7\"; padding: 0 .5ex}\n",
       "</style>\n",
       "<ol class=list-inline><li>'Sl_no'</li><li>'gender'</li><li>'ssc_percent'</li><li>'ssc_board_of_education'</li><li>'hsc_percent'</li><li>'hsc_board'</li><li>'hsc_specialization'</li><li>'degree_percent'</li><li>'degree_type'</li><li>'work_experience'</li><li>'employment_test_percent'</li><li>'specialisation'</li><li>'mba_percent'</li><li>'status'</li><li>'salary'</li></ol>\n"
      ],
      "text/latex": [
       "\\begin{enumerate*}\n",
       "\\item 'Sl\\_no'\n",
       "\\item 'gender'\n",
       "\\item 'ssc\\_percent'\n",
       "\\item 'ssc\\_board\\_of\\_education'\n",
       "\\item 'hsc\\_percent'\n",
       "\\item 'hsc\\_board'\n",
       "\\item 'hsc\\_specialization'\n",
       "\\item 'degree\\_percent'\n",
       "\\item 'degree\\_type'\n",
       "\\item 'work\\_experience'\n",
       "\\item 'employment\\_test\\_percent'\n",
       "\\item 'specialisation'\n",
       "\\item 'mba\\_percent'\n",
       "\\item 'status'\n",
       "\\item 'salary'\n",
       "\\end{enumerate*}\n"
      ],
      "text/markdown": [
       "1. 'Sl_no'\n",
       "2. 'gender'\n",
       "3. 'ssc_percent'\n",
       "4. 'ssc_board_of_education'\n",
       "5. 'hsc_percent'\n",
       "6. 'hsc_board'\n",
       "7. 'hsc_specialization'\n",
       "8. 'degree_percent'\n",
       "9. 'degree_type'\n",
       "10. 'work_experience'\n",
       "11. 'employment_test_percent'\n",
       "12. 'specialisation'\n",
       "13. 'mba_percent'\n",
       "14. 'status'\n",
       "15. 'salary'\n",
       "\n",
       "\n"
      ],
      "text/plain": [
       " [1] \"Sl_no\"                   \"gender\"                 \n",
       " [3] \"ssc_percent\"             \"ssc_board_of_education\" \n",
       " [5] \"hsc_percent\"             \"hsc_board\"              \n",
       " [7] \"hsc_specialization\"      \"degree_percent\"         \n",
       " [9] \"degree_type\"             \"work_experience\"        \n",
       "[11] \"employment_test_percent\" \"specialisation\"         \n",
       "[13] \"mba_percent\"             \"status\"                 \n",
       "[15] \"salary\"                 "
      ]
     },
     "metadata": {},
     "output_type": "display_data"
    }
   ],
   "source": [
    "names(dataset1)"
   ]
  },
  {
   "cell_type": "markdown",
   "metadata": {},
   "source": [
    "### 4. DATA VISUALIZATION"
   ]
  },
  {
   "cell_type": "code",
   "execution_count": 19,
   "metadata": {},
   "outputs": [],
   "source": [
    "# count of categorical features - count plot"
   ]
  },
  {
   "cell_type": "code",
   "execution_count": 20,
   "metadata": {},
   "outputs": [
    {
     "data": {
      "image/png": "[encoded data removed]",
      "text/plain": [
       "Plot with title \"STATUS\""
      ]
     },
     "metadata": {
      "image/png": {
       "height": 420,
       "width": 420
      }
     },
     "output_type": "display_data"
    },
    {
     "data": {
      "image/png": "[encoded data removed]",
      "text/plain": [
       "Plot with title \"HSC_SPECILIZATION\""
      ]
     },
     "metadata": {
      "image/png": {
       "height": 420,
       "width": 420
      }
     },
     "output_type": "display_data"
    }
   ],
   "source": [
    "tbl1 <- with(dataset1, table(gender))\n",
    "tbl2 <- with(dataset1, table(work_experience))\n",
    "tbl3 <- with(dataset1, table(status))\n",
    "tbl4 <- with(dataset1, table(specialisation))\n",
    "tbl5 <- with(dataset1, table(degree_type))\n",
    "tbl6 <- with(dataset1, table(hsc_specialization))\n",
    "par(mfrow = c(1, 3))\n",
    "names(tbl5) = c(\"Com&Mgt\",\"Sci\",\"Others\")\n",
    "names(tbl6) = c(\"Arts\",\"Commerce\",\"Sci\")\n",
    "barplot(tbl1, beside = TRUE, legend = TRUE, col=c(\"pink\",\"cornflowerblue\"),main = \"GENDER\",ylab = \"Count_of_gender\")\n",
    "barplot(tbl2, beside = TRUE, legend = TRUE, col=c(\"red\",\"green\"),main = \"WORK_EXPERIENCE\",ylab = \"Count_of_work_experience\")\n",
    "barplot(tbl3, beside = TRUE, legend = TRUE, col=c(\"black\",\"brown\"),main = \"STATUS\",ylab = \"Count_of_status\")\n",
    "barplot(tbl4, beside = TRUE, legend = TRUE, col=c(\"blue\",\"purple\"),main = \"SPECIALISATION\",ylab = \"Count_of_specialisation\")\n",
    "barplot(tbl5, beside = TRUE, legend = TRUE, col = c(\"blue\",\"yellow\",\"green\"),main = \"DEGREE_TYPE\",ylab = \"Count_of_degree_type\")\n",
    "barplot(tbl6, beside = TRUE, legend = TRUE, col = c(\"yellow\",\"red\",\"orange\"),main = \"HSC_SPECILIZATION\",\n",
    "        ylab = \"Count_of_hsc_specialiszation\")"
   ]
  },
  {
   "cell_type": "code",
   "execution_count": 21,
   "metadata": {},
   "outputs": [
    {
     "data": {
      "image/png": "[encoded data removed]",
      "text/plain": [
       "Plot with title \"Influence of experience \n",
       "     on placement\""
      ]
     },
     "metadata": {
      "image/png": {
       "height": 420,
       "width": 420
      }
     },
     "output_type": "display_data"
    }
   ],
   "source": [
    "x <- with(dataset1, table(work_experience))\n",
    "piepercent = round(100*x/sum(x), 1)\n",
    "lbls = paste(\"\\n\",c(\"No\",\"Yes\"),\"\\n\",piepercent,\"%\",sep = \"\")\n",
    "heading = paste(\"Influence of experience\",\"\\n\",\"    on placement\")\n",
    "par(mfrow = c(1, 2))\n",
    "pie(x, labels = lbls, main = \"Work_Experience\",col = c(\"red\",\"palegreen\")) \n",
    "counts = table(dataset1$work_experience,dataset1$status)\n",
    "barplot(counts,col = c(\"red\",\"palegreen\"),beside = TRUE,xlab = \"Work_experience\",ylab = \"count\",main=heading)"
   ]
  },
  {
   "cell_type": "code",
   "execution_count": 22,
   "metadata": {},
   "outputs": [],
   "source": [
    "library(ggplot2)"
   ]
  },
  {
   "cell_type": "code",
   "execution_count": 23,
   "metadata": {},
   "outputs": [
    {
     "data": {
      "image/png": "[encoded data removed]",
      "text/plain": [
       "plot without title"
      ]
     },
     "metadata": {
      "image/png": {
       "height": 420,
       "width": 420
      }
     },
     "output_type": "display_data"
    }
   ],
   "source": [
    "ggplot(dataset1, aes(x = mba_percent, y = employment_test_percent, colour = work_experience)) +\n",
    "  geom_point(alpha = 0.3,position = position_jitter(),size = 2.5) "
   ]
  },
  {
   "cell_type": "code",
   "execution_count": 24,
   "metadata": {},
   "outputs": [],
   "source": [
    "library(ggplot2)"
   ]
  },
  {
   "cell_type": "code",
   "execution_count": 25,
   "metadata": {},
   "outputs": [
    {
     "data": {
      "image/png": "[encoded data removed]",
      "text/plain": [
       "plot without title"
      ]
     },
     "metadata": {
      "image/png": {
       "height": 420,
       "width": 420
      }
     },
     "output_type": "display_data"
    }
   ],
   "source": [
    "ggplot(dataset1, aes(x=specialisation, y=salary, colour = gender)) + geom_boxplot(size = 1.5) +  \n",
    "  geom_point(alpha = 0.3,position = position_jitter()) "
   ]
  },
  {
   "cell_type": "code",
   "execution_count": 26,
   "metadata": {},
   "outputs": [
    {
     "name": "stderr",
     "output_type": "stream",
     "text": [
      "Warning message:\n",
      "\"package 'dplyr' was built under R version 4.1.1\"\n",
      "\n",
      "Attaching package: 'dplyr'\n",
      "\n",
      "\n",
      "The following objects are masked from 'package:stats':\n",
      "\n",
      "    filter, lag\n",
      "\n",
      "\n",
      "The following objects are masked from 'package:base':\n",
      "\n",
      "    intersect, setdiff, setequal, union\n",
      "\n",
      "\n"
     ]
    }
   ],
   "source": [
    "library(dplyr)\n",
    "library(ggplot2)"
   ]
  },
  {
   "cell_type": "code",
   "execution_count": 27,
   "metadata": {},
   "outputs": [
    {
     "data": {
      "image/png": "[encoded data removed]",
      "text/plain": [
       "plot without title"
      ]
     },
     "metadata": {
      "image/png": {
       "height": 420,
       "width": 420
      }
     },
     "output_type": "display_data"
    }
   ],
   "source": [
    "ggplot(dataset1, aes(x = status, y = mba_percent)) + geom_boxplot() + coord_flip()"
   ]
  },
  {
   "cell_type": "code",
   "execution_count": 29,
   "metadata": {},
   "outputs": [
    {
     "name": "stderr",
     "output_type": "stream",
     "text": [
      "Warning message:\n",
      "\"package 'corrplot' was built under R version 4.1.1\"\n",
      "corrplot 0.90 loaded\n",
      "\n"
     ]
    }
   ],
   "source": [
    "library(corrplot)"
   ]
  },
  {
   "cell_type": "code",
   "execution_count": 33,
   "metadata": {},
   "outputs": [
    {
     "name": "stdout",
     "output_type": "stream",
     "text": [
      "\"\",\"x\"\n",
      "\"1\",\"Numeric.csv\"\n"
     ]
    },
    {
     "data": {
      "text/html": [
       "<table class=\"dataframe\">\n",
       "<caption>A matrix: 6 × 6 of type dbl</caption>\n",
       "<thead>\n",
       "\t<tr><th></th><th scope=col>dataset1.ssc_percent</th><th scope=col>dataset1.hsc_percent</th><th scope=col>dataset1.degree_percent</th><th scope=col>dataset1.employment_test_percent</th><th scope=col>dataset1.mba_percent</th><th scope=col>dataset1.salary</th></tr>\n",
       "</thead>\n",
       "<tbody>\n",
       "\t<tr><th scope=row>dataset1.ssc_percent</th><td>1.0000000</td><td>0.5114721</td><td>0.5384040</td><td>0.2619927</td><td>0.3884776</td><td>0.5380897</td></tr>\n",
       "\t<tr><th scope=row>dataset1.hsc_percent</th><td>0.5114721</td><td>1.0000000</td><td>0.4342058</td><td>0.2451129</td><td>0.3548226</td><td>0.4525688</td></tr>\n",
       "\t<tr><th scope=row>dataset1.degree_percent</th><td>0.5384040</td><td>0.4342058</td><td>1.0000000</td><td>0.2244702</td><td>0.4023638</td><td>0.4083708</td></tr>\n",
       "\t<tr><th scope=row>dataset1.employment_test_percent</th><td>0.2619927</td><td>0.2451129</td><td>0.2244702</td><td>1.0000000</td><td>0.2180547</td><td>0.1869877</td></tr>\n",
       "\t<tr><th scope=row>dataset1.mba_percent</th><td>0.3884776</td><td>0.3548226</td><td>0.4023638</td><td>0.2180547</td><td>1.0000000</td><td>0.1398227</td></tr>\n",
       "\t<tr><th scope=row>dataset1.salary</th><td>0.5380897</td><td>0.4525688</td><td>0.4083708</td><td>0.1869877</td><td>0.1398227</td><td>1.0000000</td></tr>\n",
       "</tbody>\n",
       "</table>\n"
      ],
      "text/latex": [
       "A matrix: 6 × 6 of type dbl\n",
       "\\begin{tabular}{r|llllll}\n",
       "  & dataset1.ssc\\_percent & dataset1.hsc\\_percent & dataset1.degree\\_percent & dataset1.employment\\_test\\_percent & dataset1.mba\\_percent & dataset1.salary\\\\\n",
       "\\hline\n",
       "\tdataset1.ssc\\_percent & 1.0000000 & 0.5114721 & 0.5384040 & 0.2619927 & 0.3884776 & 0.5380897\\\\\n",
       "\tdataset1.hsc\\_percent & 0.5114721 & 1.0000000 & 0.4342058 & 0.2451129 & 0.3548226 & 0.4525688\\\\\n",
       "\tdataset1.degree\\_percent & 0.5384040 & 0.4342058 & 1.0000000 & 0.2244702 & 0.4023638 & 0.4083708\\\\\n",
       "\tdataset1.employment\\_test\\_percent & 0.2619927 & 0.2451129 & 0.2244702 & 1.0000000 & 0.2180547 & 0.1869877\\\\\n",
       "\tdataset1.mba\\_percent & 0.3884776 & 0.3548226 & 0.4023638 & 0.2180547 & 1.0000000 & 0.1398227\\\\\n",
       "\tdataset1.salary & 0.5380897 & 0.4525688 & 0.4083708 & 0.1869877 & 0.1398227 & 1.0000000\\\\\n",
       "\\end{tabular}\n"
      ],
      "text/markdown": [
       "\n",
       "A matrix: 6 × 6 of type dbl\n",
       "\n",
       "| <!--/--> | dataset1.ssc_percent | dataset1.hsc_percent | dataset1.degree_percent | dataset1.employment_test_percent | dataset1.mba_percent | dataset1.salary |\n",
       "|---|---|---|---|---|---|---|\n",
       "| dataset1.ssc_percent | 1.0000000 | 0.5114721 | 0.5384040 | 0.2619927 | 0.3884776 | 0.5380897 |\n",
       "| dataset1.hsc_percent | 0.5114721 | 1.0000000 | 0.4342058 | 0.2451129 | 0.3548226 | 0.4525688 |\n",
       "| dataset1.degree_percent | 0.5384040 | 0.4342058 | 1.0000000 | 0.2244702 | 0.4023638 | 0.4083708 |\n",
       "| dataset1.employment_test_percent | 0.2619927 | 0.2451129 | 0.2244702 | 1.0000000 | 0.2180547 | 0.1869877 |\n",
       "| dataset1.mba_percent | 0.3884776 | 0.3548226 | 0.4023638 | 0.2180547 | 1.0000000 | 0.1398227 |\n",
       "| dataset1.salary | 0.5380897 | 0.4525688 | 0.4083708 | 0.1869877 | 0.1398227 | 1.0000000 |\n",
       "\n"
      ],
      "text/plain": [
       "                                 dataset1.ssc_percent dataset1.hsc_percent\n",
       "dataset1.ssc_percent             1.0000000            0.5114721           \n",
       "dataset1.hsc_percent             0.5114721            1.0000000           \n",
       "dataset1.degree_percent          0.5384040            0.4342058           \n",
       "dataset1.employment_test_percent 0.2619927            0.2451129           \n",
       "dataset1.mba_percent             0.3884776            0.3548226           \n",
       "dataset1.salary                  0.5380897            0.4525688           \n",
       "                                 dataset1.degree_percent\n",
       "dataset1.ssc_percent             0.5384040              \n",
       "dataset1.hsc_percent             0.4342058              \n",
       "dataset1.degree_percent          1.0000000              \n",
       "dataset1.employment_test_percent 0.2244702              \n",
       "dataset1.mba_percent             0.4023638              \n",
       "dataset1.salary                  0.4083708              \n",
       "                                 dataset1.employment_test_percent\n",
       "dataset1.ssc_percent             0.2619927                       \n",
       "dataset1.hsc_percent             0.2451129                       \n",
       "dataset1.degree_percent          0.2244702                       \n",
       "dataset1.employment_test_percent 1.0000000                       \n",
       "dataset1.mba_percent             0.2180547                       \n",
       "dataset1.salary                  0.1869877                       \n",
       "                                 dataset1.mba_percent dataset1.salary\n",
       "dataset1.ssc_percent             0.3884776            0.5380897      \n",
       "dataset1.hsc_percent             0.3548226            0.4525688      \n",
       "dataset1.degree_percent          0.4023638            0.4083708      \n",
       "dataset1.employment_test_percent 0.2180547            0.1869877      \n",
       "dataset1.mba_percent             1.0000000            0.1398227      \n",
       "dataset1.salary                  0.1398227            1.0000000      "
      ]
     },
     "metadata": {},
     "output_type": "display_data"
    },
    {
     "data": {
      "image/png": "[encoded data removed]",
      "text/plain": [
       "Plot with title \"\""
      ]
     },
     "metadata": {
      "image/png": {
       "height": 420,
       "width": 420
      }
     },
     "output_type": "display_data"
    }
   ],
   "source": [
    "data<-data.frame(dataset1$ssc_percent,dataset1$hsc_percent,dataset1$degree_percent,\n",
    "                 dataset1$employment_test_percent,dataset1$mba_percent,dataset1$salary)\n",
    "mydata<-write.csv(\"Numeric.csv\")\n",
    "mydata<- as.matrix(data)\n",
    "\n",
    "cor(mydata)\n",
    "\n",
    "corrplot(cor(mydata), method=\"number\")"
   ]
  },
  {
   "cell_type": "markdown",
   "metadata": {},
   "source": [
    "### MACHINE LEARNING MODEL ALGORITHM"
   ]
  },
  {
   "cell_type": "markdown",
   "metadata": {},
   "source": [
    "### LOGISTIC REGRESSION"
   ]
  },
  {
   "cell_type": "code",
   "execution_count": 34,
   "metadata": {},
   "outputs": [],
   "source": [
    "# second result"
   ]
  },
  {
   "cell_type": "code",
   "execution_count": 58,
   "metadata": {},
   "outputs": [],
   "source": [
    "library(caTools)\n",
    "library(ISLR)\n",
    "library(caret)\n",
    "library(dplyr)\n",
    "library(InformationValue)"
   ]
  },
  {
   "cell_type": "code",
   "execution_count": 48,
   "metadata": {},
   "outputs": [
    {
     "data": {
      "text/html": [
       "'factor'"
      ],
      "text/latex": [
       "'factor'"
      ],
      "text/markdown": [
       "'factor'"
      ],
      "text/plain": [
       "[1] \"factor\""
      ]
     },
     "metadata": {},
     "output_type": "display_data"
    }
   ],
   "source": [
    "class(dataset1$status)"
   ]
  },
  {
   "cell_type": "code",
   "execution_count": 49,
   "metadata": {},
   "outputs": [],
   "source": [
    "# since \"status\" column is of character type we can't use it for prediction so we convert it into a factor and using it.\n",
    "\n",
    "dataset1 <- dataset1 %>% mutate(status = factor(status))"
   ]
  },
  {
   "cell_type": "code",
   "execution_count": 50,
   "metadata": {},
   "outputs": [
    {
     "data": {
      "text/html": [
       "'factor'"
      ],
      "text/latex": [
       "'factor'"
      ],
      "text/markdown": [
       "'factor'"
      ],
      "text/plain": [
       "[1] \"factor\""
      ]
     },
     "metadata": {},
     "output_type": "display_data"
    }
   ],
   "source": [
    "class(dataset1$status)"
   ]
  },
  {
   "cell_type": "code",
   "execution_count": 51,
   "metadata": {},
   "outputs": [],
   "source": [
    "# Logistics Regression\n",
    "glm.fit <- glm(status ~ ssc_percent + hsc_percent + degree_percent + \n",
    "               employment_test_percent + mba_percent , data = dataset1, family = binomial)"
   ]
  },
  {
   "cell_type": "code",
   "execution_count": 52,
   "metadata": {},
   "outputs": [
    {
     "data": {
      "text/plain": [
       "\n",
       "Call:\n",
       "glm(formula = status ~ ssc_percent + hsc_percent + degree_percent + \n",
       "    employment_test_percent + mba_percent, family = binomial, \n",
       "    data = dataset1)\n",
       "\n",
       "Deviance Residuals: \n",
       "    Min       1Q   Median       3Q      Max  \n",
       "-2.4491  -0.2376   0.1765   0.4543   2.4139  \n",
       "\n",
       "Coefficients:\n",
       "                          Estimate Std. Error z value Pr(>|z|)    \n",
       "(Intercept)             -13.762678   3.442525  -3.998 6.39e-05 ***\n",
       "ssc_percent               0.180165   0.034417   5.235 1.65e-07 ***\n",
       "hsc_percent               0.107653   0.032204   3.343 0.000829 ***\n",
       "degree_percent            0.128676   0.043090   2.986 0.002824 ** \n",
       "employment_test_percent  -0.009569   0.018194  -0.526 0.598910    \n",
       "mba_percent              -0.189110   0.045565  -4.150 3.32e-05 ***\n",
       "---\n",
       "Signif. codes:  0 '***' 0.001 '**' 0.01 '*' 0.05 '.' 0.1 ' ' 1\n",
       "\n",
       "(Dispersion parameter for binomial family taken to be 1)\n",
       "\n",
       "    Null deviance: 266.77  on 214  degrees of freedom\n",
       "Residual deviance: 128.13  on 209  degrees of freedom\n",
       "AIC: 140.13\n",
       "\n",
       "Number of Fisher Scoring iterations: 6\n"
      ]
     },
     "metadata": {},
     "output_type": "display_data"
    }
   ],
   "source": [
    "summary(glm.fit)"
   ]
  },
  {
   "cell_type": "code",
   "execution_count": 53,
   "metadata": {},
   "outputs": [
    {
     "data": {
      "text/html": [
       "<style>\n",
       ".dl-inline {width: auto; margin:0; padding: 0}\n",
       ".dl-inline>dt, .dl-inline>dd {float: none; width: auto; display: inline-block}\n",
       ".dl-inline>dt::after {content: \":\\0020\"; padding-right: .5ex}\n",
       ".dl-inline>dt:not(:first-of-type) {padding-left: .5ex}\n",
       "</style><dl class=dl-inline><dt>1</dt><dd>0.980583353033023</dd><dt>2</dt><dd>0.996204474264149</dd><dt>3</dt><dd>0.864766390347944</dd><dt>4</dt><dd>0.0371578687823437</dd><dt>5</dt><dd>0.999513981411398</dd></dl>\n"
      ],
      "text/latex": [
       "\\begin{description*}\n",
       "\\item[1] 0.980583353033023\n",
       "\\item[2] 0.996204474264149\n",
       "\\item[3] 0.864766390347944\n",
       "\\item[4] 0.0371578687823437\n",
       "\\item[5] 0.999513981411398\n",
       "\\end{description*}\n"
      ],
      "text/markdown": [
       "1\n",
       ":   0.9805833530330232\n",
       ":   0.9962044742641493\n",
       ":   0.8647663903479444\n",
       ":   0.03715786878234375\n",
       ":   0.999513981411398\n",
       "\n"
      ],
      "text/plain": [
       "         1          2          3          4          5 \n",
       "0.98058335 0.99620447 0.86476639 0.03715787 0.99951398 "
      ]
     },
     "metadata": {},
     "output_type": "display_data"
    }
   ],
   "source": [
    "glm.probs <- predict(glm.fit,type = \"response\")\n",
    "glm.probs[1:5]"
   ]
  },
  {
   "cell_type": "code",
   "execution_count": 54,
   "metadata": {},
   "outputs": [],
   "source": [
    "glm.pred <- ifelse(glm.probs > 0.8, \"Placed\", \"Not-Placed\")"
   ]
  },
  {
   "cell_type": "code",
   "execution_count": 61,
   "metadata": {},
   "outputs": [
    {
     "data": {
      "text/html": [
       "<table class=\"dataframe\">\n",
       "<caption>A data.frame: 2 × 2</caption>\n",
       "<thead>\n",
       "\t<tr><th></th><th scope=col>Not-Placed</th><th scope=col>Placed</th></tr>\n",
       "\t<tr><th></th><th scope=col>&lt;int&gt;</th><th scope=col>&lt;int&gt;</th></tr>\n",
       "</thead>\n",
       "<tbody>\n",
       "\t<tr><th scope=row>0</th><td>60</td><td>  0</td></tr>\n",
       "\t<tr><th scope=row>1</th><td>34</td><td>121</td></tr>\n",
       "</tbody>\n",
       "</table>\n"
      ],
      "text/latex": [
       "A data.frame: 2 × 2\n",
       "\\begin{tabular}{r|ll}\n",
       "  & Not-Placed & Placed\\\\\n",
       "  & <int> & <int>\\\\\n",
       "\\hline\n",
       "\t0 & 60 &   0\\\\\n",
       "\t1 & 34 & 121\\\\\n",
       "\\end{tabular}\n"
      ],
      "text/markdown": [
       "\n",
       "A data.frame: 2 × 2\n",
       "\n",
       "| <!--/--> | Not-Placed &lt;int&gt; | Placed &lt;int&gt; |\n",
       "|---|---|---|\n",
       "| 0 | 60 |   0 |\n",
       "| 1 | 34 | 121 |\n",
       "\n"
      ],
      "text/plain": [
       "  Not-Placed Placed\n",
       "0 60           0   \n",
       "1 34         121   "
      ]
     },
     "metadata": {},
     "output_type": "display_data"
    }
   ],
   "source": [
    "result = confusionMatrix(glm.pred,glm.probs)\n",
    "result"
   ]
  },
  {
   "cell_type": "code",
   "execution_count": 44,
   "metadata": {},
   "outputs": [
    {
     "data": {
      "text/plain": [
       "            status\n",
       "glm.pred     Not Placed Placed\n",
       "  Not-Placed         63     31\n",
       "  Placed              4    117"
      ]
     },
     "metadata": {},
     "output_type": "display_data"
    }
   ],
   "source": [
    "attach(dataset1)\n",
    "table(glm.pred,status)"
   ]
  },
  {
   "cell_type": "code",
   "execution_count": 45,
   "metadata": {},
   "outputs": [
    {
     "data": {
      "text/html": [
       "0.544186046511628"
      ],
      "text/latex": [
       "0.544186046511628"
      ],
      "text/markdown": [
       "0.544186046511628"
      ],
      "text/plain": [
       "[1] 0.544186"
      ]
     },
     "metadata": {},
     "output_type": "display_data"
    }
   ],
   "source": [
    "mean(glm.pred == status)"
   ]
  },
  {
   "cell_type": "code",
   "execution_count": 46,
   "metadata": {},
   "outputs": [
    {
     "name": "stdout",
     "output_type": "stream",
     "text": [
      "73.77 %"
     ]
    }
   ],
   "source": [
    "accuracy = paste(round((sqrt(mean((glm.pred == status)^2)))*100,digit = 2),\"%\")\n",
    "cat(accuracy)"
   ]
  },
  {
   "cell_type": "code",
   "execution_count": null,
   "metadata": {},
   "outputs": [],
   "source": []
  }
 ],
 "metadata": {
  "kernelspec": {
   "display_name": "R",
   "language": "R",
   "name": "ir"
  },
  "language_info": {
   "codemirror_mode": "r",
   "file_extension": ".r",
   "mimetype": "text/x-r-source",
   "name": "R",
   "pygments_lexer": "r",
   "version": "4.1.0"
  }
 },
 "nbformat": 4,
 "nbformat_minor": 4
}
